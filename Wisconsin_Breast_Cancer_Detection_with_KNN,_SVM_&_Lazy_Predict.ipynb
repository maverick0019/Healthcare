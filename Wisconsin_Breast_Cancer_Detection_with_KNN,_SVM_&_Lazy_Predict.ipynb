{
  "nbformat": 4,
  "nbformat_minor": 0,
  "metadata": {
    "colab": {
      "name": "Wisconsin Breast Cancer Detection with KNN, SVM & Lazy Predict.ipynb",
      "provenance": [],
      "collapsed_sections": []
    },
    "kernelspec": {
      "name": "python3",
      "display_name": "Python 3"
    }
  },
  "cells": [
    {
      "cell_type": "code",
      "metadata": {
        "id": "L_6u6mLfRCvV",
        "colab_type": "code",
        "colab": {}
      },
      "source": [
        "import numpy as np\n",
        "import pandas as pd\n",
        "import matplotlib.pyplot as plt\n",
        "\n",
        "%matplotlib inline"
      ],
      "execution_count": 1,
      "outputs": []
    },
    {
      "cell_type": "code",
      "metadata": {
        "id": "rp_o-MpuRm4-",
        "colab_type": "code",
        "colab": {}
      },
      "source": [
        "my_data=pd.read_csv(\"/content/breastCancer.csv\")"
      ],
      "execution_count": 2,
      "outputs": []
    },
    {
      "cell_type": "code",
      "metadata": {
        "id": "VISdXG0ZSCGQ",
        "colab_type": "code",
        "colab": {
          "base_uri": "https://localhost:8080/",
          "height": 224
        },
        "outputId": "8992857a-0374-4791-9dcc-8781541bcf5e"
      },
      "source": [
        "my_data.head()"
      ],
      "execution_count": 3,
      "outputs": [
        {
          "output_type": "execute_result",
          "data": {
            "text/html": [
              "<div>\n",
              "<style scoped>\n",
              "    .dataframe tbody tr th:only-of-type {\n",
              "        vertical-align: middle;\n",
              "    }\n",
              "\n",
              "    .dataframe tbody tr th {\n",
              "        vertical-align: top;\n",
              "    }\n",
              "\n",
              "    .dataframe thead th {\n",
              "        text-align: right;\n",
              "    }\n",
              "</style>\n",
              "<table border=\"1\" class=\"dataframe\">\n",
              "  <thead>\n",
              "    <tr style=\"text-align: right;\">\n",
              "      <th></th>\n",
              "      <th>id</th>\n",
              "      <th>clump_thickness</th>\n",
              "      <th>size_uniformity</th>\n",
              "      <th>shape_uniformity</th>\n",
              "      <th>marginal_adhesion</th>\n",
              "      <th>epithelial_size</th>\n",
              "      <th>bare_nucleoli</th>\n",
              "      <th>bland_chromatin</th>\n",
              "      <th>normal_nucleoli</th>\n",
              "      <th>mitoses</th>\n",
              "      <th>class</th>\n",
              "    </tr>\n",
              "  </thead>\n",
              "  <tbody>\n",
              "    <tr>\n",
              "      <th>0</th>\n",
              "      <td>1000025</td>\n",
              "      <td>5</td>\n",
              "      <td>1</td>\n",
              "      <td>1</td>\n",
              "      <td>1</td>\n",
              "      <td>2</td>\n",
              "      <td>1</td>\n",
              "      <td>3</td>\n",
              "      <td>1</td>\n",
              "      <td>1</td>\n",
              "      <td>2</td>\n",
              "    </tr>\n",
              "    <tr>\n",
              "      <th>1</th>\n",
              "      <td>1002945</td>\n",
              "      <td>5</td>\n",
              "      <td>4</td>\n",
              "      <td>4</td>\n",
              "      <td>5</td>\n",
              "      <td>7</td>\n",
              "      <td>10</td>\n",
              "      <td>3</td>\n",
              "      <td>2</td>\n",
              "      <td>1</td>\n",
              "      <td>2</td>\n",
              "    </tr>\n",
              "    <tr>\n",
              "      <th>2</th>\n",
              "      <td>1015425</td>\n",
              "      <td>3</td>\n",
              "      <td>1</td>\n",
              "      <td>1</td>\n",
              "      <td>1</td>\n",
              "      <td>2</td>\n",
              "      <td>2</td>\n",
              "      <td>3</td>\n",
              "      <td>1</td>\n",
              "      <td>1</td>\n",
              "      <td>2</td>\n",
              "    </tr>\n",
              "    <tr>\n",
              "      <th>3</th>\n",
              "      <td>1016277</td>\n",
              "      <td>6</td>\n",
              "      <td>8</td>\n",
              "      <td>8</td>\n",
              "      <td>1</td>\n",
              "      <td>3</td>\n",
              "      <td>4</td>\n",
              "      <td>3</td>\n",
              "      <td>7</td>\n",
              "      <td>1</td>\n",
              "      <td>2</td>\n",
              "    </tr>\n",
              "    <tr>\n",
              "      <th>4</th>\n",
              "      <td>1017023</td>\n",
              "      <td>4</td>\n",
              "      <td>1</td>\n",
              "      <td>1</td>\n",
              "      <td>3</td>\n",
              "      <td>2</td>\n",
              "      <td>1</td>\n",
              "      <td>3</td>\n",
              "      <td>1</td>\n",
              "      <td>1</td>\n",
              "      <td>2</td>\n",
              "    </tr>\n",
              "  </tbody>\n",
              "</table>\n",
              "</div>"
            ],
            "text/plain": [
              "        id  clump_thickness  size_uniformity  ...  normal_nucleoli  mitoses  class\n",
              "0  1000025                5                1  ...                1        1      2\n",
              "1  1002945                5                4  ...                2        1      2\n",
              "2  1015425                3                1  ...                1        1      2\n",
              "3  1016277                6                8  ...                7        1      2\n",
              "4  1017023                4                1  ...                1        1      2\n",
              "\n",
              "[5 rows x 11 columns]"
            ]
          },
          "metadata": {
            "tags": []
          },
          "execution_count": 3
        }
      ]
    },
    {
      "cell_type": "markdown",
      "metadata": {
        "id": "PZq0dJCASJTN",
        "colab_type": "text"
      },
      "source": [
        "**Data Pre-processing**"
      ]
    },
    {
      "cell_type": "code",
      "metadata": {
        "id": "eVJZPhVXSFR-",
        "colab_type": "code",
        "colab": {
          "base_uri": "https://localhost:8080/",
          "height": 68
        },
        "outputId": "e2f22b72-45e6-4467-fee9-7c897a4e311c"
      },
      "source": [
        "my_data['class'].value_counts()"
      ],
      "execution_count": 4,
      "outputs": [
        {
          "output_type": "execute_result",
          "data": {
            "text/plain": [
              "2    458\n",
              "4    241\n",
              "Name: class, dtype: int64"
            ]
          },
          "metadata": {
            "tags": []
          },
          "execution_count": 4
        }
      ]
    },
    {
      "cell_type": "code",
      "metadata": {
        "id": "5IAXqSENSOAc",
        "colab_type": "code",
        "colab": {
          "base_uri": "https://localhost:8080/",
          "height": 34
        },
        "outputId": "77e0f298-5261-4a96-b8e8-a0532595c001"
      },
      "source": [
        "my_data.shape"
      ],
      "execution_count": 5,
      "outputs": [
        {
          "output_type": "execute_result",
          "data": {
            "text/plain": [
              "(699, 11)"
            ]
          },
          "metadata": {
            "tags": []
          },
          "execution_count": 5
        }
      ]
    },
    {
      "cell_type": "code",
      "metadata": {
        "id": "yIeWctZjSQw3",
        "colab_type": "code",
        "colab": {
          "base_uri": "https://localhost:8080/",
          "height": 221
        },
        "outputId": "35c01338-ab33-4e36-abe8-3555fbc8c584"
      },
      "source": [
        "my_data.dtypes"
      ],
      "execution_count": 6,
      "outputs": [
        {
          "output_type": "execute_result",
          "data": {
            "text/plain": [
              "id                    int64\n",
              "clump_thickness       int64\n",
              "size_uniformity       int64\n",
              "shape_uniformity      int64\n",
              "marginal_adhesion     int64\n",
              "epithelial_size       int64\n",
              "bare_nucleoli        object\n",
              "bland_chromatin       int64\n",
              "normal_nucleoli       int64\n",
              "mitoses               int64\n",
              "class                 int64\n",
              "dtype: object"
            ]
          },
          "metadata": {
            "tags": []
          },
          "execution_count": 6
        }
      ]
    },
    {
      "cell_type": "code",
      "metadata": {
        "id": "zIbc5WTqSTyD",
        "colab_type": "code",
        "colab": {
          "base_uri": "https://localhost:8080/",
          "height": 221
        },
        "outputId": "c80bee71-1504-41bd-d19e-7c493331b90b"
      },
      "source": [
        "my_data['bare_nucleoli']"
      ],
      "execution_count": 7,
      "outputs": [
        {
          "output_type": "execute_result",
          "data": {
            "text/plain": [
              "0       1\n",
              "1      10\n",
              "2       2\n",
              "3       4\n",
              "4       1\n",
              "       ..\n",
              "694     2\n",
              "695     1\n",
              "696     3\n",
              "697     4\n",
              "698     5\n",
              "Name: bare_nucleoli, Length: 699, dtype: object"
            ]
          },
          "metadata": {
            "tags": []
          },
          "execution_count": 7
        }
      ]
    },
    {
      "cell_type": "code",
      "metadata": {
        "id": "298Ms5NvSWmF",
        "colab_type": "code",
        "colab": {
          "base_uri": "https://localhost:8080/",
          "height": 565
        },
        "outputId": "45fbc9e9-7573-4b1e-a42b-c9ee5dd8a5f4"
      },
      "source": [
        "my_data[my_data['bare_nucleoli']=='?']"
      ],
      "execution_count": 8,
      "outputs": [
        {
          "output_type": "execute_result",
          "data": {
            "text/html": [
              "<div>\n",
              "<style scoped>\n",
              "    .dataframe tbody tr th:only-of-type {\n",
              "        vertical-align: middle;\n",
              "    }\n",
              "\n",
              "    .dataframe tbody tr th {\n",
              "        vertical-align: top;\n",
              "    }\n",
              "\n",
              "    .dataframe thead th {\n",
              "        text-align: right;\n",
              "    }\n",
              "</style>\n",
              "<table border=\"1\" class=\"dataframe\">\n",
              "  <thead>\n",
              "    <tr style=\"text-align: right;\">\n",
              "      <th></th>\n",
              "      <th>id</th>\n",
              "      <th>clump_thickness</th>\n",
              "      <th>size_uniformity</th>\n",
              "      <th>shape_uniformity</th>\n",
              "      <th>marginal_adhesion</th>\n",
              "      <th>epithelial_size</th>\n",
              "      <th>bare_nucleoli</th>\n",
              "      <th>bland_chromatin</th>\n",
              "      <th>normal_nucleoli</th>\n",
              "      <th>mitoses</th>\n",
              "      <th>class</th>\n",
              "    </tr>\n",
              "  </thead>\n",
              "  <tbody>\n",
              "    <tr>\n",
              "      <th>23</th>\n",
              "      <td>1057013</td>\n",
              "      <td>8</td>\n",
              "      <td>4</td>\n",
              "      <td>5</td>\n",
              "      <td>1</td>\n",
              "      <td>2</td>\n",
              "      <td>?</td>\n",
              "      <td>7</td>\n",
              "      <td>3</td>\n",
              "      <td>1</td>\n",
              "      <td>4</td>\n",
              "    </tr>\n",
              "    <tr>\n",
              "      <th>40</th>\n",
              "      <td>1096800</td>\n",
              "      <td>6</td>\n",
              "      <td>6</td>\n",
              "      <td>6</td>\n",
              "      <td>9</td>\n",
              "      <td>6</td>\n",
              "      <td>?</td>\n",
              "      <td>7</td>\n",
              "      <td>8</td>\n",
              "      <td>1</td>\n",
              "      <td>2</td>\n",
              "    </tr>\n",
              "    <tr>\n",
              "      <th>139</th>\n",
              "      <td>1183246</td>\n",
              "      <td>1</td>\n",
              "      <td>1</td>\n",
              "      <td>1</td>\n",
              "      <td>1</td>\n",
              "      <td>1</td>\n",
              "      <td>?</td>\n",
              "      <td>2</td>\n",
              "      <td>1</td>\n",
              "      <td>1</td>\n",
              "      <td>2</td>\n",
              "    </tr>\n",
              "    <tr>\n",
              "      <th>145</th>\n",
              "      <td>1184840</td>\n",
              "      <td>1</td>\n",
              "      <td>1</td>\n",
              "      <td>3</td>\n",
              "      <td>1</td>\n",
              "      <td>2</td>\n",
              "      <td>?</td>\n",
              "      <td>2</td>\n",
              "      <td>1</td>\n",
              "      <td>1</td>\n",
              "      <td>2</td>\n",
              "    </tr>\n",
              "    <tr>\n",
              "      <th>158</th>\n",
              "      <td>1193683</td>\n",
              "      <td>1</td>\n",
              "      <td>1</td>\n",
              "      <td>2</td>\n",
              "      <td>1</td>\n",
              "      <td>3</td>\n",
              "      <td>?</td>\n",
              "      <td>1</td>\n",
              "      <td>1</td>\n",
              "      <td>1</td>\n",
              "      <td>2</td>\n",
              "    </tr>\n",
              "    <tr>\n",
              "      <th>164</th>\n",
              "      <td>1197510</td>\n",
              "      <td>5</td>\n",
              "      <td>1</td>\n",
              "      <td>1</td>\n",
              "      <td>1</td>\n",
              "      <td>2</td>\n",
              "      <td>?</td>\n",
              "      <td>3</td>\n",
              "      <td>1</td>\n",
              "      <td>1</td>\n",
              "      <td>2</td>\n",
              "    </tr>\n",
              "    <tr>\n",
              "      <th>235</th>\n",
              "      <td>1241232</td>\n",
              "      <td>3</td>\n",
              "      <td>1</td>\n",
              "      <td>4</td>\n",
              "      <td>1</td>\n",
              "      <td>2</td>\n",
              "      <td>?</td>\n",
              "      <td>3</td>\n",
              "      <td>1</td>\n",
              "      <td>1</td>\n",
              "      <td>2</td>\n",
              "    </tr>\n",
              "    <tr>\n",
              "      <th>249</th>\n",
              "      <td>169356</td>\n",
              "      <td>3</td>\n",
              "      <td>1</td>\n",
              "      <td>1</td>\n",
              "      <td>1</td>\n",
              "      <td>2</td>\n",
              "      <td>?</td>\n",
              "      <td>3</td>\n",
              "      <td>1</td>\n",
              "      <td>1</td>\n",
              "      <td>2</td>\n",
              "    </tr>\n",
              "    <tr>\n",
              "      <th>275</th>\n",
              "      <td>432809</td>\n",
              "      <td>3</td>\n",
              "      <td>1</td>\n",
              "      <td>3</td>\n",
              "      <td>1</td>\n",
              "      <td>2</td>\n",
              "      <td>?</td>\n",
              "      <td>2</td>\n",
              "      <td>1</td>\n",
              "      <td>1</td>\n",
              "      <td>2</td>\n",
              "    </tr>\n",
              "    <tr>\n",
              "      <th>292</th>\n",
              "      <td>563649</td>\n",
              "      <td>8</td>\n",
              "      <td>8</td>\n",
              "      <td>8</td>\n",
              "      <td>1</td>\n",
              "      <td>2</td>\n",
              "      <td>?</td>\n",
              "      <td>6</td>\n",
              "      <td>10</td>\n",
              "      <td>1</td>\n",
              "      <td>4</td>\n",
              "    </tr>\n",
              "    <tr>\n",
              "      <th>294</th>\n",
              "      <td>606140</td>\n",
              "      <td>1</td>\n",
              "      <td>1</td>\n",
              "      <td>1</td>\n",
              "      <td>1</td>\n",
              "      <td>2</td>\n",
              "      <td>?</td>\n",
              "      <td>2</td>\n",
              "      <td>1</td>\n",
              "      <td>1</td>\n",
              "      <td>2</td>\n",
              "    </tr>\n",
              "    <tr>\n",
              "      <th>297</th>\n",
              "      <td>61634</td>\n",
              "      <td>5</td>\n",
              "      <td>4</td>\n",
              "      <td>3</td>\n",
              "      <td>1</td>\n",
              "      <td>2</td>\n",
              "      <td>?</td>\n",
              "      <td>2</td>\n",
              "      <td>3</td>\n",
              "      <td>1</td>\n",
              "      <td>2</td>\n",
              "    </tr>\n",
              "    <tr>\n",
              "      <th>315</th>\n",
              "      <td>704168</td>\n",
              "      <td>4</td>\n",
              "      <td>6</td>\n",
              "      <td>5</td>\n",
              "      <td>6</td>\n",
              "      <td>7</td>\n",
              "      <td>?</td>\n",
              "      <td>4</td>\n",
              "      <td>9</td>\n",
              "      <td>1</td>\n",
              "      <td>2</td>\n",
              "    </tr>\n",
              "    <tr>\n",
              "      <th>321</th>\n",
              "      <td>733639</td>\n",
              "      <td>3</td>\n",
              "      <td>1</td>\n",
              "      <td>1</td>\n",
              "      <td>1</td>\n",
              "      <td>2</td>\n",
              "      <td>?</td>\n",
              "      <td>3</td>\n",
              "      <td>1</td>\n",
              "      <td>1</td>\n",
              "      <td>2</td>\n",
              "    </tr>\n",
              "    <tr>\n",
              "      <th>411</th>\n",
              "      <td>1238464</td>\n",
              "      <td>1</td>\n",
              "      <td>1</td>\n",
              "      <td>1</td>\n",
              "      <td>1</td>\n",
              "      <td>1</td>\n",
              "      <td>?</td>\n",
              "      <td>2</td>\n",
              "      <td>1</td>\n",
              "      <td>1</td>\n",
              "      <td>2</td>\n",
              "    </tr>\n",
              "    <tr>\n",
              "      <th>617</th>\n",
              "      <td>1057067</td>\n",
              "      <td>1</td>\n",
              "      <td>1</td>\n",
              "      <td>1</td>\n",
              "      <td>1</td>\n",
              "      <td>1</td>\n",
              "      <td>?</td>\n",
              "      <td>1</td>\n",
              "      <td>1</td>\n",
              "      <td>1</td>\n",
              "      <td>2</td>\n",
              "    </tr>\n",
              "  </tbody>\n",
              "</table>\n",
              "</div>"
            ],
            "text/plain": [
              "          id  clump_thickness  size_uniformity  ...  normal_nucleoli  mitoses  class\n",
              "23   1057013                8                4  ...                3        1      4\n",
              "40   1096800                6                6  ...                8        1      2\n",
              "139  1183246                1                1  ...                1        1      2\n",
              "145  1184840                1                1  ...                1        1      2\n",
              "158  1193683                1                1  ...                1        1      2\n",
              "164  1197510                5                1  ...                1        1      2\n",
              "235  1241232                3                1  ...                1        1      2\n",
              "249   169356                3                1  ...                1        1      2\n",
              "275   432809                3                1  ...                1        1      2\n",
              "292   563649                8                8  ...               10        1      4\n",
              "294   606140                1                1  ...                1        1      2\n",
              "297    61634                5                4  ...                3        1      2\n",
              "315   704168                4                6  ...                9        1      2\n",
              "321   733639                3                1  ...                1        1      2\n",
              "411  1238464                1                1  ...                1        1      2\n",
              "617  1057067                1                1  ...                1        1      2\n",
              "\n",
              "[16 rows x 11 columns]"
            ]
          },
          "metadata": {
            "tags": []
          },
          "execution_count": 8
        }
      ]
    },
    {
      "cell_type": "code",
      "metadata": {
        "id": "NcaY0wZASZkz",
        "colab_type": "code",
        "colab": {
          "base_uri": "https://localhost:8080/",
          "height": 221
        },
        "outputId": "f2c64f28-beea-4399-eac4-c80aa396984c"
      },
      "source": [
        "my_data[my_data['bare_nucleoli']=='?'].sum()"
      ],
      "execution_count": 9,
      "outputs": [
        {
          "output_type": "execute_result",
          "data": {
            "text/plain": [
              "id                           13721250\n",
              "clump_thickness                    54\n",
              "size_uniformity                    39\n",
              "shape_uniformity                   46\n",
              "marginal_adhesion                  29\n",
              "epithelial_size                    39\n",
              "bare_nucleoli        ????????????????\n",
              "bland_chromatin                    50\n",
              "normal_nucleoli                    44\n",
              "mitoses                            16\n",
              "class                              36\n",
              "dtype: object"
            ]
          },
          "metadata": {
            "tags": []
          },
          "execution_count": 9
        }
      ]
    },
    {
      "cell_type": "code",
      "metadata": {
        "id": "uV3LUiy-ScxI",
        "colab_type": "code",
        "colab": {}
      },
      "source": [
        "digits_in_bare_nucleoli=my_data.bare_nucleoli.str.isdigit()"
      ],
      "execution_count": 10,
      "outputs": []
    },
    {
      "cell_type": "code",
      "metadata": {
        "id": "6BEpWjvxSfY0",
        "colab_type": "code",
        "colab": {
          "base_uri": "https://localhost:8080/",
          "height": 221
        },
        "outputId": "2e1adbf1-2643-40a9-8721-cbb7e4080c4a"
      },
      "source": [
        "digits_in_bare_nucleoli"
      ],
      "execution_count": 11,
      "outputs": [
        {
          "output_type": "execute_result",
          "data": {
            "text/plain": [
              "0      True\n",
              "1      True\n",
              "2      True\n",
              "3      True\n",
              "4      True\n",
              "       ... \n",
              "694    True\n",
              "695    True\n",
              "696    True\n",
              "697    True\n",
              "698    True\n",
              "Name: bare_nucleoli, Length: 699, dtype: bool"
            ]
          },
          "metadata": {
            "tags": []
          },
          "execution_count": 11
        }
      ]
    },
    {
      "cell_type": "code",
      "metadata": {
        "id": "aYAVZsGrSh4O",
        "colab_type": "code",
        "colab": {}
      },
      "source": [
        "my_df=my_data.replace('?',np.nan)"
      ],
      "execution_count": 12,
      "outputs": []
    },
    {
      "cell_type": "code",
      "metadata": {
        "id": "cRS-MFe7SlLx",
        "colab_type": "code",
        "colab": {
          "base_uri": "https://localhost:8080/",
          "height": 221
        },
        "outputId": "d1a2e175-7485-4ebc-cd4b-7b465e1d7826"
      },
      "source": [
        "my_df.bare_nucleoli"
      ],
      "execution_count": 13,
      "outputs": [
        {
          "output_type": "execute_result",
          "data": {
            "text/plain": [
              "0       1\n",
              "1      10\n",
              "2       2\n",
              "3       4\n",
              "4       1\n",
              "       ..\n",
              "694     2\n",
              "695     1\n",
              "696     3\n",
              "697     4\n",
              "698     5\n",
              "Name: bare_nucleoli, Length: 699, dtype: object"
            ]
          },
          "metadata": {
            "tags": []
          },
          "execution_count": 13
        }
      ]
    },
    {
      "cell_type": "code",
      "metadata": {
        "id": "Tt6x0c8lSoY_",
        "colab_type": "code",
        "colab": {
          "base_uri": "https://localhost:8080/",
          "height": 221
        },
        "outputId": "49ba6f40-9bbb-468c-b026-520d2fb511c7"
      },
      "source": [
        "my_df.median()"
      ],
      "execution_count": 14,
      "outputs": [
        {
          "output_type": "execute_result",
          "data": {
            "text/plain": [
              "id                   1171710.0\n",
              "clump_thickness            4.0\n",
              "size_uniformity            1.0\n",
              "shape_uniformity           1.0\n",
              "marginal_adhesion          1.0\n",
              "epithelial_size            2.0\n",
              "bare_nucleoli              1.0\n",
              "bland_chromatin            3.0\n",
              "normal_nucleoli            1.0\n",
              "mitoses                    1.0\n",
              "class                      2.0\n",
              "dtype: float64"
            ]
          },
          "metadata": {
            "tags": []
          },
          "execution_count": 14
        }
      ]
    },
    {
      "cell_type": "code",
      "metadata": {
        "id": "PtRvdvDLSrNF",
        "colab_type": "code",
        "colab": {
          "base_uri": "https://localhost:8080/",
          "height": 255
        },
        "outputId": "005d936d-c7f9-4ee1-84f0-7ba22b5d17e5"
      },
      "source": [
        "my_df.describe"
      ],
      "execution_count": 15,
      "outputs": [
        {
          "output_type": "execute_result",
          "data": {
            "text/plain": [
              "<bound method NDFrame.describe of           id  clump_thickness  size_uniformity  ...  normal_nucleoli  mitoses  class\n",
              "0    1000025                5                1  ...                1        1      2\n",
              "1    1002945                5                4  ...                2        1      2\n",
              "2    1015425                3                1  ...                1        1      2\n",
              "3    1016277                6                8  ...                7        1      2\n",
              "4    1017023                4                1  ...                1        1      2\n",
              "..       ...              ...              ...  ...              ...      ...    ...\n",
              "694   776715                3                1  ...                1        1      2\n",
              "695   841769                2                1  ...                1        1      2\n",
              "696   888820                5               10  ...               10        2      4\n",
              "697   897471                4                8  ...                6        1      4\n",
              "698   897471                4                8  ...                4        1      4\n",
              "\n",
              "[699 rows x 11 columns]>"
            ]
          },
          "metadata": {
            "tags": []
          },
          "execution_count": 15
        }
      ]
    },
    {
      "cell_type": "code",
      "metadata": {
        "id": "_Gr-ICPwSuWn",
        "colab_type": "code",
        "colab": {}
      },
      "source": [
        "my_df=my_df.fillna(my_df.median())"
      ],
      "execution_count": 16,
      "outputs": []
    },
    {
      "cell_type": "code",
      "metadata": {
        "id": "uYtDPBAKSxyy",
        "colab_type": "code",
        "colab": {
          "base_uri": "https://localhost:8080/",
          "height": 221
        },
        "outputId": "11822b59-7264-4eaf-b9c1-5d9f4ee5ef85"
      },
      "source": [
        "my_df.bare_nucleoli"
      ],
      "execution_count": 17,
      "outputs": [
        {
          "output_type": "execute_result",
          "data": {
            "text/plain": [
              "0       1\n",
              "1      10\n",
              "2       2\n",
              "3       4\n",
              "4       1\n",
              "       ..\n",
              "694     2\n",
              "695     1\n",
              "696     3\n",
              "697     4\n",
              "698     5\n",
              "Name: bare_nucleoli, Length: 699, dtype: object"
            ]
          },
          "metadata": {
            "tags": []
          },
          "execution_count": 17
        }
      ]
    },
    {
      "cell_type": "code",
      "metadata": {
        "id": "dKHxjS2PS1P7",
        "colab_type": "code",
        "colab": {
          "base_uri": "https://localhost:8080/",
          "height": 221
        },
        "outputId": "95971226-db16-44df-b2fb-b63b386a7fc5"
      },
      "source": [
        "my_df.dtypes"
      ],
      "execution_count": 18,
      "outputs": [
        {
          "output_type": "execute_result",
          "data": {
            "text/plain": [
              "id                    int64\n",
              "clump_thickness       int64\n",
              "size_uniformity       int64\n",
              "shape_uniformity      int64\n",
              "marginal_adhesion     int64\n",
              "epithelial_size       int64\n",
              "bare_nucleoli        object\n",
              "bland_chromatin       int64\n",
              "normal_nucleoli       int64\n",
              "mitoses               int64\n",
              "class                 int64\n",
              "dtype: object"
            ]
          },
          "metadata": {
            "tags": []
          },
          "execution_count": 18
        }
      ]
    },
    {
      "cell_type": "code",
      "metadata": {
        "id": "j1db0zXTS72C",
        "colab_type": "code",
        "colab": {}
      },
      "source": [
        "my_df['bare_nucleoli']=my_df['bare_nucleoli'].astype('int64')"
      ],
      "execution_count": 19,
      "outputs": []
    },
    {
      "cell_type": "code",
      "metadata": {
        "id": "cuL8uKfMS_Mj",
        "colab_type": "code",
        "colab": {
          "base_uri": "https://localhost:8080/",
          "height": 221
        },
        "outputId": "ccae86a8-8256-46eb-9763-4e1acabd91bf"
      },
      "source": [
        "my_df.dtypes"
      ],
      "execution_count": 20,
      "outputs": [
        {
          "output_type": "execute_result",
          "data": {
            "text/plain": [
              "id                   int64\n",
              "clump_thickness      int64\n",
              "size_uniformity      int64\n",
              "shape_uniformity     int64\n",
              "marginal_adhesion    int64\n",
              "epithelial_size      int64\n",
              "bare_nucleoli        int64\n",
              "bland_chromatin      int64\n",
              "normal_nucleoli      int64\n",
              "mitoses              int64\n",
              "class                int64\n",
              "dtype: object"
            ]
          },
          "metadata": {
            "tags": []
          },
          "execution_count": 20
        }
      ]
    },
    {
      "cell_type": "markdown",
      "metadata": {
        "id": "seOr8UW_TFIB",
        "colab_type": "text"
      },
      "source": [
        "**Exploratory Data Analysis**"
      ]
    },
    {
      "cell_type": "code",
      "metadata": {
        "id": "giZ5zjQJTBvj",
        "colab_type": "code",
        "colab": {
          "base_uri": "https://localhost:8080/",
          "height": 224
        },
        "outputId": "b3e19bd2-0734-4009-bb1c-3b5b70f9d799"
      },
      "source": [
        "my_df.head()"
      ],
      "execution_count": 21,
      "outputs": [
        {
          "output_type": "execute_result",
          "data": {
            "text/html": [
              "<div>\n",
              "<style scoped>\n",
              "    .dataframe tbody tr th:only-of-type {\n",
              "        vertical-align: middle;\n",
              "    }\n",
              "\n",
              "    .dataframe tbody tr th {\n",
              "        vertical-align: top;\n",
              "    }\n",
              "\n",
              "    .dataframe thead th {\n",
              "        text-align: right;\n",
              "    }\n",
              "</style>\n",
              "<table border=\"1\" class=\"dataframe\">\n",
              "  <thead>\n",
              "    <tr style=\"text-align: right;\">\n",
              "      <th></th>\n",
              "      <th>id</th>\n",
              "      <th>clump_thickness</th>\n",
              "      <th>size_uniformity</th>\n",
              "      <th>shape_uniformity</th>\n",
              "      <th>marginal_adhesion</th>\n",
              "      <th>epithelial_size</th>\n",
              "      <th>bare_nucleoli</th>\n",
              "      <th>bland_chromatin</th>\n",
              "      <th>normal_nucleoli</th>\n",
              "      <th>mitoses</th>\n",
              "      <th>class</th>\n",
              "    </tr>\n",
              "  </thead>\n",
              "  <tbody>\n",
              "    <tr>\n",
              "      <th>0</th>\n",
              "      <td>1000025</td>\n",
              "      <td>5</td>\n",
              "      <td>1</td>\n",
              "      <td>1</td>\n",
              "      <td>1</td>\n",
              "      <td>2</td>\n",
              "      <td>1</td>\n",
              "      <td>3</td>\n",
              "      <td>1</td>\n",
              "      <td>1</td>\n",
              "      <td>2</td>\n",
              "    </tr>\n",
              "    <tr>\n",
              "      <th>1</th>\n",
              "      <td>1002945</td>\n",
              "      <td>5</td>\n",
              "      <td>4</td>\n",
              "      <td>4</td>\n",
              "      <td>5</td>\n",
              "      <td>7</td>\n",
              "      <td>10</td>\n",
              "      <td>3</td>\n",
              "      <td>2</td>\n",
              "      <td>1</td>\n",
              "      <td>2</td>\n",
              "    </tr>\n",
              "    <tr>\n",
              "      <th>2</th>\n",
              "      <td>1015425</td>\n",
              "      <td>3</td>\n",
              "      <td>1</td>\n",
              "      <td>1</td>\n",
              "      <td>1</td>\n",
              "      <td>2</td>\n",
              "      <td>2</td>\n",
              "      <td>3</td>\n",
              "      <td>1</td>\n",
              "      <td>1</td>\n",
              "      <td>2</td>\n",
              "    </tr>\n",
              "    <tr>\n",
              "      <th>3</th>\n",
              "      <td>1016277</td>\n",
              "      <td>6</td>\n",
              "      <td>8</td>\n",
              "      <td>8</td>\n",
              "      <td>1</td>\n",
              "      <td>3</td>\n",
              "      <td>4</td>\n",
              "      <td>3</td>\n",
              "      <td>7</td>\n",
              "      <td>1</td>\n",
              "      <td>2</td>\n",
              "    </tr>\n",
              "    <tr>\n",
              "      <th>4</th>\n",
              "      <td>1017023</td>\n",
              "      <td>4</td>\n",
              "      <td>1</td>\n",
              "      <td>1</td>\n",
              "      <td>3</td>\n",
              "      <td>2</td>\n",
              "      <td>1</td>\n",
              "      <td>3</td>\n",
              "      <td>1</td>\n",
              "      <td>1</td>\n",
              "      <td>2</td>\n",
              "    </tr>\n",
              "  </tbody>\n",
              "</table>\n",
              "</div>"
            ],
            "text/plain": [
              "        id  clump_thickness  size_uniformity  ...  normal_nucleoli  mitoses  class\n",
              "0  1000025                5                1  ...                1        1      2\n",
              "1  1002945                5                4  ...                2        1      2\n",
              "2  1015425                3                1  ...                1        1      2\n",
              "3  1016277                6                8  ...                7        1      2\n",
              "4  1017023                4                1  ...                1        1      2\n",
              "\n",
              "[5 rows x 11 columns]"
            ]
          },
          "metadata": {
            "tags": []
          },
          "execution_count": 21
        }
      ]
    },
    {
      "cell_type": "code",
      "metadata": {
        "id": "K8fWAearTI6U",
        "colab_type": "code",
        "colab": {}
      },
      "source": [
        "my_df.drop('id',axis=1,inplace=True)"
      ],
      "execution_count": 22,
      "outputs": []
    },
    {
      "cell_type": "code",
      "metadata": {
        "id": "uppxsnUWTMDB",
        "colab_type": "code",
        "colab": {
          "base_uri": "https://localhost:8080/",
          "height": 204
        },
        "outputId": "9410c95d-176d-4a9f-e3b4-7cfbeec63182"
      },
      "source": [
        "my_df.head()"
      ],
      "execution_count": 23,
      "outputs": [
        {
          "output_type": "execute_result",
          "data": {
            "text/html": [
              "<div>\n",
              "<style scoped>\n",
              "    .dataframe tbody tr th:only-of-type {\n",
              "        vertical-align: middle;\n",
              "    }\n",
              "\n",
              "    .dataframe tbody tr th {\n",
              "        vertical-align: top;\n",
              "    }\n",
              "\n",
              "    .dataframe thead th {\n",
              "        text-align: right;\n",
              "    }\n",
              "</style>\n",
              "<table border=\"1\" class=\"dataframe\">\n",
              "  <thead>\n",
              "    <tr style=\"text-align: right;\">\n",
              "      <th></th>\n",
              "      <th>clump_thickness</th>\n",
              "      <th>size_uniformity</th>\n",
              "      <th>shape_uniformity</th>\n",
              "      <th>marginal_adhesion</th>\n",
              "      <th>epithelial_size</th>\n",
              "      <th>bare_nucleoli</th>\n",
              "      <th>bland_chromatin</th>\n",
              "      <th>normal_nucleoli</th>\n",
              "      <th>mitoses</th>\n",
              "      <th>class</th>\n",
              "    </tr>\n",
              "  </thead>\n",
              "  <tbody>\n",
              "    <tr>\n",
              "      <th>0</th>\n",
              "      <td>5</td>\n",
              "      <td>1</td>\n",
              "      <td>1</td>\n",
              "      <td>1</td>\n",
              "      <td>2</td>\n",
              "      <td>1</td>\n",
              "      <td>3</td>\n",
              "      <td>1</td>\n",
              "      <td>1</td>\n",
              "      <td>2</td>\n",
              "    </tr>\n",
              "    <tr>\n",
              "      <th>1</th>\n",
              "      <td>5</td>\n",
              "      <td>4</td>\n",
              "      <td>4</td>\n",
              "      <td>5</td>\n",
              "      <td>7</td>\n",
              "      <td>10</td>\n",
              "      <td>3</td>\n",
              "      <td>2</td>\n",
              "      <td>1</td>\n",
              "      <td>2</td>\n",
              "    </tr>\n",
              "    <tr>\n",
              "      <th>2</th>\n",
              "      <td>3</td>\n",
              "      <td>1</td>\n",
              "      <td>1</td>\n",
              "      <td>1</td>\n",
              "      <td>2</td>\n",
              "      <td>2</td>\n",
              "      <td>3</td>\n",
              "      <td>1</td>\n",
              "      <td>1</td>\n",
              "      <td>2</td>\n",
              "    </tr>\n",
              "    <tr>\n",
              "      <th>3</th>\n",
              "      <td>6</td>\n",
              "      <td>8</td>\n",
              "      <td>8</td>\n",
              "      <td>1</td>\n",
              "      <td>3</td>\n",
              "      <td>4</td>\n",
              "      <td>3</td>\n",
              "      <td>7</td>\n",
              "      <td>1</td>\n",
              "      <td>2</td>\n",
              "    </tr>\n",
              "    <tr>\n",
              "      <th>4</th>\n",
              "      <td>4</td>\n",
              "      <td>1</td>\n",
              "      <td>1</td>\n",
              "      <td>3</td>\n",
              "      <td>2</td>\n",
              "      <td>1</td>\n",
              "      <td>3</td>\n",
              "      <td>1</td>\n",
              "      <td>1</td>\n",
              "      <td>2</td>\n",
              "    </tr>\n",
              "  </tbody>\n",
              "</table>\n",
              "</div>"
            ],
            "text/plain": [
              "   clump_thickness  size_uniformity  ...  mitoses  class\n",
              "0                5                1  ...        1      2\n",
              "1                5                4  ...        1      2\n",
              "2                3                1  ...        1      2\n",
              "3                6                8  ...        1      2\n",
              "4                4                1  ...        1      2\n",
              "\n",
              "[5 rows x 10 columns]"
            ]
          },
          "metadata": {
            "tags": []
          },
          "execution_count": 23
        }
      ]
    },
    {
      "cell_type": "code",
      "metadata": {
        "id": "jS58E_CNTOo0",
        "colab_type": "code",
        "colab": {
          "base_uri": "https://localhost:8080/",
          "height": 359
        },
        "outputId": "117d4a1f-3d01-47c5-d5de-7d51d8bc61df"
      },
      "source": [
        "my_df.describe().T"
      ],
      "execution_count": 24,
      "outputs": [
        {
          "output_type": "execute_result",
          "data": {
            "text/html": [
              "<div>\n",
              "<style scoped>\n",
              "    .dataframe tbody tr th:only-of-type {\n",
              "        vertical-align: middle;\n",
              "    }\n",
              "\n",
              "    .dataframe tbody tr th {\n",
              "        vertical-align: top;\n",
              "    }\n",
              "\n",
              "    .dataframe thead th {\n",
              "        text-align: right;\n",
              "    }\n",
              "</style>\n",
              "<table border=\"1\" class=\"dataframe\">\n",
              "  <thead>\n",
              "    <tr style=\"text-align: right;\">\n",
              "      <th></th>\n",
              "      <th>count</th>\n",
              "      <th>mean</th>\n",
              "      <th>std</th>\n",
              "      <th>min</th>\n",
              "      <th>25%</th>\n",
              "      <th>50%</th>\n",
              "      <th>75%</th>\n",
              "      <th>max</th>\n",
              "    </tr>\n",
              "  </thead>\n",
              "  <tbody>\n",
              "    <tr>\n",
              "      <th>clump_thickness</th>\n",
              "      <td>699.0</td>\n",
              "      <td>4.417740</td>\n",
              "      <td>2.815741</td>\n",
              "      <td>1.0</td>\n",
              "      <td>2.0</td>\n",
              "      <td>4.0</td>\n",
              "      <td>6.0</td>\n",
              "      <td>10.0</td>\n",
              "    </tr>\n",
              "    <tr>\n",
              "      <th>size_uniformity</th>\n",
              "      <td>699.0</td>\n",
              "      <td>3.134478</td>\n",
              "      <td>3.051459</td>\n",
              "      <td>1.0</td>\n",
              "      <td>1.0</td>\n",
              "      <td>1.0</td>\n",
              "      <td>5.0</td>\n",
              "      <td>10.0</td>\n",
              "    </tr>\n",
              "    <tr>\n",
              "      <th>shape_uniformity</th>\n",
              "      <td>699.0</td>\n",
              "      <td>3.207439</td>\n",
              "      <td>2.971913</td>\n",
              "      <td>1.0</td>\n",
              "      <td>1.0</td>\n",
              "      <td>1.0</td>\n",
              "      <td>5.0</td>\n",
              "      <td>10.0</td>\n",
              "    </tr>\n",
              "    <tr>\n",
              "      <th>marginal_adhesion</th>\n",
              "      <td>699.0</td>\n",
              "      <td>2.806867</td>\n",
              "      <td>2.855379</td>\n",
              "      <td>1.0</td>\n",
              "      <td>1.0</td>\n",
              "      <td>1.0</td>\n",
              "      <td>4.0</td>\n",
              "      <td>10.0</td>\n",
              "    </tr>\n",
              "    <tr>\n",
              "      <th>epithelial_size</th>\n",
              "      <td>699.0</td>\n",
              "      <td>3.216023</td>\n",
              "      <td>2.214300</td>\n",
              "      <td>1.0</td>\n",
              "      <td>2.0</td>\n",
              "      <td>2.0</td>\n",
              "      <td>4.0</td>\n",
              "      <td>10.0</td>\n",
              "    </tr>\n",
              "    <tr>\n",
              "      <th>bare_nucleoli</th>\n",
              "      <td>699.0</td>\n",
              "      <td>3.486409</td>\n",
              "      <td>3.621929</td>\n",
              "      <td>1.0</td>\n",
              "      <td>1.0</td>\n",
              "      <td>1.0</td>\n",
              "      <td>5.0</td>\n",
              "      <td>10.0</td>\n",
              "    </tr>\n",
              "    <tr>\n",
              "      <th>bland_chromatin</th>\n",
              "      <td>699.0</td>\n",
              "      <td>3.437768</td>\n",
              "      <td>2.438364</td>\n",
              "      <td>1.0</td>\n",
              "      <td>2.0</td>\n",
              "      <td>3.0</td>\n",
              "      <td>5.0</td>\n",
              "      <td>10.0</td>\n",
              "    </tr>\n",
              "    <tr>\n",
              "      <th>normal_nucleoli</th>\n",
              "      <td>699.0</td>\n",
              "      <td>2.866953</td>\n",
              "      <td>3.053634</td>\n",
              "      <td>1.0</td>\n",
              "      <td>1.0</td>\n",
              "      <td>1.0</td>\n",
              "      <td>4.0</td>\n",
              "      <td>10.0</td>\n",
              "    </tr>\n",
              "    <tr>\n",
              "      <th>mitoses</th>\n",
              "      <td>699.0</td>\n",
              "      <td>1.589413</td>\n",
              "      <td>1.715078</td>\n",
              "      <td>1.0</td>\n",
              "      <td>1.0</td>\n",
              "      <td>1.0</td>\n",
              "      <td>1.0</td>\n",
              "      <td>10.0</td>\n",
              "    </tr>\n",
              "    <tr>\n",
              "      <th>class</th>\n",
              "      <td>699.0</td>\n",
              "      <td>2.689557</td>\n",
              "      <td>0.951273</td>\n",
              "      <td>2.0</td>\n",
              "      <td>2.0</td>\n",
              "      <td>2.0</td>\n",
              "      <td>4.0</td>\n",
              "      <td>4.0</td>\n",
              "    </tr>\n",
              "  </tbody>\n",
              "</table>\n",
              "</div>"
            ],
            "text/plain": [
              "                   count      mean       std  min  25%  50%  75%   max\n",
              "clump_thickness    699.0  4.417740  2.815741  1.0  2.0  4.0  6.0  10.0\n",
              "size_uniformity    699.0  3.134478  3.051459  1.0  1.0  1.0  5.0  10.0\n",
              "shape_uniformity   699.0  3.207439  2.971913  1.0  1.0  1.0  5.0  10.0\n",
              "marginal_adhesion  699.0  2.806867  2.855379  1.0  1.0  1.0  4.0  10.0\n",
              "epithelial_size    699.0  3.216023  2.214300  1.0  2.0  2.0  4.0  10.0\n",
              "bare_nucleoli      699.0  3.486409  3.621929  1.0  1.0  1.0  5.0  10.0\n",
              "bland_chromatin    699.0  3.437768  2.438364  1.0  2.0  3.0  5.0  10.0\n",
              "normal_nucleoli    699.0  2.866953  3.053634  1.0  1.0  1.0  4.0  10.0\n",
              "mitoses            699.0  1.589413  1.715078  1.0  1.0  1.0  1.0  10.0\n",
              "class              699.0  2.689557  0.951273  2.0  2.0  2.0  4.0   4.0"
            ]
          },
          "metadata": {
            "tags": []
          },
          "execution_count": 24
        }
      ]
    },
    {
      "cell_type": "code",
      "metadata": {
        "id": "e48hUqXJTR20",
        "colab_type": "code",
        "colab": {
          "base_uri": "https://localhost:8080/",
          "height": 71
        },
        "outputId": "f822ea6b-494b-471f-d325-882a15d623f5"
      },
      "source": [
        "import seaborn as sns"
      ],
      "execution_count": 26,
      "outputs": [
        {
          "output_type": "stream",
          "text": [
            "/usr/local/lib/python3.6/dist-packages/statsmodels/tools/_testing.py:19: FutureWarning: pandas.util.testing is deprecated. Use the functions in the public API at pandas.testing instead.\n",
            "  import pandas.util.testing as tm\n"
          ],
          "name": "stderr"
        }
      ]
    },
    {
      "cell_type": "code",
      "metadata": {
        "id": "1k72JcdjTVHm",
        "colab_type": "code",
        "colab": {
          "base_uri": "https://localhost:8080/",
          "height": 296
        },
        "outputId": "ed269e51-7cc7-4d74-d62f-01a7f92de701"
      },
      "source": [
        "sns.distplot(my_df['class'])"
      ],
      "execution_count": 27,
      "outputs": [
        {
          "output_type": "execute_result",
          "data": {
            "text/plain": [
              "<matplotlib.axes._subplots.AxesSubplot at 0x7f88a84c47b8>"
            ]
          },
          "metadata": {
            "tags": []
          },
          "execution_count": 27
        },
        {
          "output_type": "display_data",
          "data": {
            "image/png": "[encoded data removed]",
            "text/plain": [
              "<Figure size 432x288 with 1 Axes>"
            ]
          },
          "metadata": {
            "tags": [],
            "needs_background": "light"
          }
        }
      ]
    },
    {
      "cell_type": "code",
      "metadata": {
        "id": "wqGO7Tb0TYzI",
        "colab_type": "code",
        "colab": {
          "base_uri": "https://localhost:8080/",
          "height": 821
        },
        "outputId": "3ee49fd5-e0ba-4f5d-f444-f05de1e2b2ab"
      },
      "source": [
        "my_df.hist(bins=20, figsize=(40,40),layout=(6,3));"
      ],
      "execution_count": 28,
      "outputs": [
        {
          "output_type": "display_data",
          "data": {
            "image/png": "[encoded data removed]",
            "text/plain": [
              "<Figure size 2880x2880 with 18 Axes>"
            ]
          },
          "metadata": {
            "tags": [],
            "needs_background": "light"
          }
        }
      ]
    },
    {
      "cell_type": "code",
      "metadata": {
        "id": "4fqhIUISTcDV",
        "colab_type": "code",
        "colab": {
          "base_uri": "https://localhost:8080/",
          "height": 954
        },
        "outputId": "aeb2c445-3391-49e1-e704-5787ff660292"
      },
      "source": [
        "plt.figure(figsize=(25,20))\n",
        "sns.boxplot(data=my_df, orient='h')"
      ],
      "execution_count": 29,
      "outputs": [
        {
          "output_type": "execute_result",
          "data": {
            "text/plain": [
              "<matplotlib.axes._subplots.AxesSubplot at 0x7f88a7d83518>"
            ]
          },
          "metadata": {
            "tags": []
          },
          "execution_count": 29
        },
        {
          "output_type": "display_data",
          "data": {
            "image/png": "[encoded data removed]",
            "text/plain": [
              "<Figure size 1800x1440 with 1 Axes>"
            ]
          },
          "metadata": {
            "tags": [],
            "needs_background": "light"
          }
        }
      ]
    },
    {
      "cell_type": "code",
      "metadata": {
        "id": "0FCBFWSaThJj",
        "colab_type": "code",
        "colab": {
          "base_uri": "https://localhost:8080/",
          "height": 379
        },
        "outputId": "9779d92e-67ba-47ee-c80f-7d57a7075e0c"
      },
      "source": [
        "my_df.corr()"
      ],
      "execution_count": 30,
      "outputs": [
        {
          "output_type": "execute_result",
          "data": {
            "text/html": [
              "<div>\n",
              "<style scoped>\n",
              "    .dataframe tbody tr th:only-of-type {\n",
              "        vertical-align: middle;\n",
              "    }\n",
              "\n",
              "    .dataframe tbody tr th {\n",
              "        vertical-align: top;\n",
              "    }\n",
              "\n",
              "    .dataframe thead th {\n",
              "        text-align: right;\n",
              "    }\n",
              "</style>\n",
              "<table border=\"1\" class=\"dataframe\">\n",
              "  <thead>\n",
              "    <tr style=\"text-align: right;\">\n",
              "      <th></th>\n",
              "      <th>clump_thickness</th>\n",
              "      <th>size_uniformity</th>\n",
              "      <th>shape_uniformity</th>\n",
              "      <th>marginal_adhesion</th>\n",
              "      <th>epithelial_size</th>\n",
              "      <th>bare_nucleoli</th>\n",
              "      <th>bland_chromatin</th>\n",
              "      <th>normal_nucleoli</th>\n",
              "      <th>mitoses</th>\n",
              "      <th>class</th>\n",
              "    </tr>\n",
              "  </thead>\n",
              "  <tbody>\n",
              "    <tr>\n",
              "      <th>clump_thickness</th>\n",
              "      <td>1.000000</td>\n",
              "      <td>0.644913</td>\n",
              "      <td>0.654589</td>\n",
              "      <td>0.486356</td>\n",
              "      <td>0.521816</td>\n",
              "      <td>0.590008</td>\n",
              "      <td>0.558428</td>\n",
              "      <td>0.535835</td>\n",
              "      <td>0.350034</td>\n",
              "      <td>0.716001</td>\n",
              "    </tr>\n",
              "    <tr>\n",
              "      <th>size_uniformity</th>\n",
              "      <td>0.644913</td>\n",
              "      <td>1.000000</td>\n",
              "      <td>0.906882</td>\n",
              "      <td>0.705582</td>\n",
              "      <td>0.751799</td>\n",
              "      <td>0.686673</td>\n",
              "      <td>0.755721</td>\n",
              "      <td>0.722865</td>\n",
              "      <td>0.458693</td>\n",
              "      <td>0.817904</td>\n",
              "    </tr>\n",
              "    <tr>\n",
              "      <th>shape_uniformity</th>\n",
              "      <td>0.654589</td>\n",
              "      <td>0.906882</td>\n",
              "      <td>1.000000</td>\n",
              "      <td>0.683079</td>\n",
              "      <td>0.719668</td>\n",
              "      <td>0.707474</td>\n",
              "      <td>0.735948</td>\n",
              "      <td>0.719446</td>\n",
              "      <td>0.438911</td>\n",
              "      <td>0.818934</td>\n",
              "    </tr>\n",
              "    <tr>\n",
              "      <th>marginal_adhesion</th>\n",
              "      <td>0.486356</td>\n",
              "      <td>0.705582</td>\n",
              "      <td>0.683079</td>\n",
              "      <td>1.000000</td>\n",
              "      <td>0.599599</td>\n",
              "      <td>0.666971</td>\n",
              "      <td>0.666715</td>\n",
              "      <td>0.603352</td>\n",
              "      <td>0.417633</td>\n",
              "      <td>0.696800</td>\n",
              "    </tr>\n",
              "    <tr>\n",
              "      <th>epithelial_size</th>\n",
              "      <td>0.521816</td>\n",
              "      <td>0.751799</td>\n",
              "      <td>0.719668</td>\n",
              "      <td>0.599599</td>\n",
              "      <td>1.000000</td>\n",
              "      <td>0.583701</td>\n",
              "      <td>0.616102</td>\n",
              "      <td>0.628881</td>\n",
              "      <td>0.479101</td>\n",
              "      <td>0.682785</td>\n",
              "    </tr>\n",
              "    <tr>\n",
              "      <th>bare_nucleoli</th>\n",
              "      <td>0.590008</td>\n",
              "      <td>0.686673</td>\n",
              "      <td>0.707474</td>\n",
              "      <td>0.666971</td>\n",
              "      <td>0.583701</td>\n",
              "      <td>1.000000</td>\n",
              "      <td>0.674215</td>\n",
              "      <td>0.574778</td>\n",
              "      <td>0.342397</td>\n",
              "      <td>0.818968</td>\n",
              "    </tr>\n",
              "    <tr>\n",
              "      <th>bland_chromatin</th>\n",
              "      <td>0.558428</td>\n",
              "      <td>0.755721</td>\n",
              "      <td>0.735948</td>\n",
              "      <td>0.666715</td>\n",
              "      <td>0.616102</td>\n",
              "      <td>0.674215</td>\n",
              "      <td>1.000000</td>\n",
              "      <td>0.665878</td>\n",
              "      <td>0.344169</td>\n",
              "      <td>0.756616</td>\n",
              "    </tr>\n",
              "    <tr>\n",
              "      <th>normal_nucleoli</th>\n",
              "      <td>0.535835</td>\n",
              "      <td>0.722865</td>\n",
              "      <td>0.719446</td>\n",
              "      <td>0.603352</td>\n",
              "      <td>0.628881</td>\n",
              "      <td>0.574778</td>\n",
              "      <td>0.665878</td>\n",
              "      <td>1.000000</td>\n",
              "      <td>0.428336</td>\n",
              "      <td>0.712244</td>\n",
              "    </tr>\n",
              "    <tr>\n",
              "      <th>mitoses</th>\n",
              "      <td>0.350034</td>\n",
              "      <td>0.458693</td>\n",
              "      <td>0.438911</td>\n",
              "      <td>0.417633</td>\n",
              "      <td>0.479101</td>\n",
              "      <td>0.342397</td>\n",
              "      <td>0.344169</td>\n",
              "      <td>0.428336</td>\n",
              "      <td>1.000000</td>\n",
              "      <td>0.423170</td>\n",
              "    </tr>\n",
              "    <tr>\n",
              "      <th>class</th>\n",
              "      <td>0.716001</td>\n",
              "      <td>0.817904</td>\n",
              "      <td>0.818934</td>\n",
              "      <td>0.696800</td>\n",
              "      <td>0.682785</td>\n",
              "      <td>0.818968</td>\n",
              "      <td>0.756616</td>\n",
              "      <td>0.712244</td>\n",
              "      <td>0.423170</td>\n",
              "      <td>1.000000</td>\n",
              "    </tr>\n",
              "  </tbody>\n",
              "</table>\n",
              "</div>"
            ],
            "text/plain": [
              "                   clump_thickness  size_uniformity  ...   mitoses     class\n",
              "clump_thickness           1.000000         0.644913  ...  0.350034  0.716001\n",
              "size_uniformity           0.644913         1.000000  ...  0.458693  0.817904\n",
              "shape_uniformity          0.654589         0.906882  ...  0.438911  0.818934\n",
              "marginal_adhesion         0.486356         0.705582  ...  0.417633  0.696800\n",
              "epithelial_size           0.521816         0.751799  ...  0.479101  0.682785\n",
              "bare_nucleoli             0.590008         0.686673  ...  0.342397  0.818968\n",
              "bland_chromatin           0.558428         0.755721  ...  0.344169  0.756616\n",
              "normal_nucleoli           0.535835         0.722865  ...  0.428336  0.712244\n",
              "mitoses                   0.350034         0.458693  ...  1.000000  0.423170\n",
              "class                     0.716001         0.817904  ...  0.423170  1.000000\n",
              "\n",
              "[10 rows x 10 columns]"
            ]
          },
          "metadata": {
            "tags": []
          },
          "execution_count": 30
        }
      ]
    },
    {
      "cell_type": "code",
      "metadata": {
        "id": "DUDyVikwTlr5",
        "colab_type": "code",
        "colab": {
          "base_uri": "https://localhost:8080/",
          "height": 1000
        },
        "outputId": "4e349338-3081-43bc-e2bf-3a7926d18ffb"
      },
      "source": [
        "plt.figure(figsize=(40,20))\n",
        "\n",
        "sns.heatmap(my_df.corr(), vmax=1, square=True, annot=True,cmap='viridis')\n",
        "plt.title('Correlation Between Different Attributes')\n",
        "plt.show()"
      ],
      "execution_count": 31,
      "outputs": [
        {
          "output_type": "display_data",
          "data": {
            "image/png": "[encoded data removed]",
            "text/plain": [
              "<Figure size 2880x1440 with 2 Axes>"
            ]
          },
          "metadata": {
            "tags": [],
            "needs_background": "light"
          }
        }
      ]
    },
    {
      "cell_type": "code",
      "metadata": {
        "id": "J_HqGmYcDPHI",
        "colab_type": "code",
        "colab": {
          "base_uri": "https://localhost:8080/",
          "height": 267
        },
        "outputId": "c6092710-ef0b-4ae0-a208-37a46d8cb6ec"
      },
      "source": [
        "try:\n",
        "    sns.distplot(my_df)\n",
        "except RuntimeError as re:\n",
        "    if str(re).startswith(\"Selected KDE bandwidth is 0. Cannot estimate density.\"):\n",
        "        sns.distplot(my_df, kde_kws={'bw': 0.1})\n",
        "    else:\n",
        "        raise re"
      ],
      "execution_count": 32,
      "outputs": [
        {
          "output_type": "display_data",
          "data": {
            "image/png": "[encoded data removed]",
            "text/plain": [
              "<Figure size 432x288 with 1 Axes>"
            ]
          },
          "metadata": {
            "tags": [],
            "needs_background": "light"
          }
        }
      ]
    },
    {
      "cell_type": "code",
      "metadata": {
        "id": "jm2le9BYDTuf",
        "colab_type": "code",
        "colab": {
          "base_uri": "https://localhost:8080/",
          "height": 1000
        },
        "outputId": "0177b31f-2cdb-4b83-9c73-74faf190ca97"
      },
      "source": [
        "try:\n",
        "    sns.pairplot(my_df)\n",
        "except RuntimeError as re:\n",
        "    if str(re).startswith(\"Selected KDE bandwidth is 0. Cannot estimate density.\"):\n",
        "        sns.pair(my_df, kde_kws={'bw': 0.1})\n",
        "    else:\n",
        "        raise re"
      ],
      "execution_count": 33,
      "outputs": [
        {
          "output_type": "display_data",
          "data": {
            "image/png": "[encoded data removed]",
            "text/plain": [
              "<Figure size 1800x1800 with 110 Axes>"
            ]
          },
          "metadata": {
            "tags": [],
            "needs_background": "light"
          }
        }
      ]
    },
    {
      "cell_type": "markdown",
      "metadata": {
        "id": "OLbkpz_JDoyC",
        "colab_type": "text"
      },
      "source": [
        "**Building Our Model**"
      ]
    },
    {
      "cell_type": "code",
      "metadata": {
        "id": "ZjcWvVk_DaoF",
        "colab_type": "code",
        "colab": {
          "base_uri": "https://localhost:8080/",
          "height": 204
        },
        "outputId": "fcecd65d-494e-4267-e44e-1a654341c310"
      },
      "source": [
        "my_df.head()"
      ],
      "execution_count": 34,
      "outputs": [
        {
          "output_type": "execute_result",
          "data": {
            "text/html": [
              "<div>\n",
              "<style scoped>\n",
              "    .dataframe tbody tr th:only-of-type {\n",
              "        vertical-align: middle;\n",
              "    }\n",
              "\n",
              "    .dataframe tbody tr th {\n",
              "        vertical-align: top;\n",
              "    }\n",
              "\n",
              "    .dataframe thead th {\n",
              "        text-align: right;\n",
              "    }\n",
              "</style>\n",
              "<table border=\"1\" class=\"dataframe\">\n",
              "  <thead>\n",
              "    <tr style=\"text-align: right;\">\n",
              "      <th></th>\n",
              "      <th>clump_thickness</th>\n",
              "      <th>size_uniformity</th>\n",
              "      <th>shape_uniformity</th>\n",
              "      <th>marginal_adhesion</th>\n",
              "      <th>epithelial_size</th>\n",
              "      <th>bare_nucleoli</th>\n",
              "      <th>bland_chromatin</th>\n",
              "      <th>normal_nucleoli</th>\n",
              "      <th>mitoses</th>\n",
              "      <th>class</th>\n",
              "    </tr>\n",
              "  </thead>\n",
              "  <tbody>\n",
              "    <tr>\n",
              "      <th>0</th>\n",
              "      <td>5</td>\n",
              "      <td>1</td>\n",
              "      <td>1</td>\n",
              "      <td>1</td>\n",
              "      <td>2</td>\n",
              "      <td>1</td>\n",
              "      <td>3</td>\n",
              "      <td>1</td>\n",
              "      <td>1</td>\n",
              "      <td>2</td>\n",
              "    </tr>\n",
              "    <tr>\n",
              "      <th>1</th>\n",
              "      <td>5</td>\n",
              "      <td>4</td>\n",
              "      <td>4</td>\n",
              "      <td>5</td>\n",
              "      <td>7</td>\n",
              "      <td>10</td>\n",
              "      <td>3</td>\n",
              "      <td>2</td>\n",
              "      <td>1</td>\n",
              "      <td>2</td>\n",
              "    </tr>\n",
              "    <tr>\n",
              "      <th>2</th>\n",
              "      <td>3</td>\n",
              "      <td>1</td>\n",
              "      <td>1</td>\n",
              "      <td>1</td>\n",
              "      <td>2</td>\n",
              "      <td>2</td>\n",
              "      <td>3</td>\n",
              "      <td>1</td>\n",
              "      <td>1</td>\n",
              "      <td>2</td>\n",
              "    </tr>\n",
              "    <tr>\n",
              "      <th>3</th>\n",
              "      <td>6</td>\n",
              "      <td>8</td>\n",
              "      <td>8</td>\n",
              "      <td>1</td>\n",
              "      <td>3</td>\n",
              "      <td>4</td>\n",
              "      <td>3</td>\n",
              "      <td>7</td>\n",
              "      <td>1</td>\n",
              "      <td>2</td>\n",
              "    </tr>\n",
              "    <tr>\n",
              "      <th>4</th>\n",
              "      <td>4</td>\n",
              "      <td>1</td>\n",
              "      <td>1</td>\n",
              "      <td>3</td>\n",
              "      <td>2</td>\n",
              "      <td>1</td>\n",
              "      <td>3</td>\n",
              "      <td>1</td>\n",
              "      <td>1</td>\n",
              "      <td>2</td>\n",
              "    </tr>\n",
              "  </tbody>\n",
              "</table>\n",
              "</div>"
            ],
            "text/plain": [
              "   clump_thickness  size_uniformity  ...  mitoses  class\n",
              "0                5                1  ...        1      2\n",
              "1                5                4  ...        1      2\n",
              "2                3                1  ...        1      2\n",
              "3                6                8  ...        1      2\n",
              "4                4                1  ...        1      2\n",
              "\n",
              "[5 rows x 10 columns]"
            ]
          },
          "metadata": {
            "tags": []
          },
          "execution_count": 34
        }
      ]
    },
    {
      "cell_type": "code",
      "metadata": {
        "id": "OQ0ri06aDxUs",
        "colab_type": "code",
        "colab": {}
      },
      "source": [
        "X=my_df.drop('class',axis=1)\n",
        "y=my_df['class']"
      ],
      "execution_count": 35,
      "outputs": []
    },
    {
      "cell_type": "code",
      "metadata": {
        "id": "_7bgJjfND1wC",
        "colab_type": "code",
        "colab": {}
      },
      "source": [
        "from sklearn.model_selection import train_test_split\n",
        "X_train,X_test,y_train,y_test=train_test_split(X,y,test_size=0.30,random_state=1)"
      ],
      "execution_count": 36,
      "outputs": []
    },
    {
      "cell_type": "markdown",
      "metadata": {
        "id": "IU09aQ1XD_MH",
        "colab_type": "text"
      },
      "source": [
        "**KNeighborsClassifier**"
      ]
    },
    {
      "cell_type": "code",
      "metadata": {
        "id": "fxRWkPQWD42n",
        "colab_type": "code",
        "colab": {}
      },
      "source": [
        "from sklearn.neighbors import KNeighborsClassifier"
      ],
      "execution_count": 37,
      "outputs": []
    },
    {
      "cell_type": "code",
      "metadata": {
        "id": "Pla13EnGEEOR",
        "colab_type": "code",
        "colab": {}
      },
      "source": [
        "KNN=KNeighborsClassifier(n_neighbors=5, weights='distance')"
      ],
      "execution_count": 38,
      "outputs": []
    },
    {
      "cell_type": "code",
      "metadata": {
        "id": "bxskOu-dEHpI",
        "colab_type": "code",
        "colab": {
          "base_uri": "https://localhost:8080/",
          "height": 68
        },
        "outputId": "278ca643-c5e1-4c03-b40d-76b39f6a7e80"
      },
      "source": [
        "KNN.fit(X_train,y_train)"
      ],
      "execution_count": 39,
      "outputs": [
        {
          "output_type": "execute_result",
          "data": {
            "text/plain": [
              "KNeighborsClassifier(algorithm='auto', leaf_size=30, metric='minkowski',\n",
              "                     metric_params=None, n_jobs=None, n_neighbors=5, p=2,\n",
              "                     weights='distance')"
            ]
          },
          "metadata": {
            "tags": []
          },
          "execution_count": 39
        }
      ]
    },
    {
      "cell_type": "code",
      "metadata": {
        "id": "GFMc-RlSEMz8",
        "colab_type": "code",
        "colab": {
          "base_uri": "https://localhost:8080/",
          "height": 187
        },
        "outputId": "2ee17047-2809-4b13-eddf-ef5d802945ca"
      },
      "source": [
        "predicted_1=KNN.predict(X_test)\n",
        "predicted_1"
      ],
      "execution_count": 40,
      "outputs": [
        {
          "output_type": "execute_result",
          "data": {
            "text/plain": [
              "array([2, 2, 2, 4, 2, 2, 4, 2, 2, 2, 4, 4, 2, 2, 4, 4, 2, 2, 2, 2, 2, 4,\n",
              "       4, 2, 4, 2, 4, 4, 2, 2, 2, 4, 4, 4, 4, 4, 2, 4, 2, 2, 2, 2, 2, 2,\n",
              "       2, 4, 2, 2, 2, 2, 2, 2, 4, 2, 4, 4, 4, 2, 2, 2, 2, 2, 2, 2, 2, 2,\n",
              "       2, 4, 2, 2, 2, 2, 2, 2, 4, 4, 2, 2, 2, 2, 4, 4, 2, 4, 2, 2, 2, 4,\n",
              "       4, 2, 4, 2, 2, 2, 2, 4, 2, 2, 2, 2, 2, 2, 4, 2, 2, 4, 4, 2, 4, 2,\n",
              "       4, 2, 2, 2, 2, 2, 2, 2, 2, 2, 2, 4, 4, 4, 2, 2, 2, 4, 2, 2, 2, 4,\n",
              "       4, 2, 4, 2, 2, 2, 4, 4, 2, 4, 2, 2, 2, 4, 2, 4, 2, 2, 2, 2, 2, 4,\n",
              "       2, 2, 2, 2, 2, 2, 2, 4, 2, 2, 4, 4, 2, 2, 2, 2, 2, 2, 4, 2, 2, 4,\n",
              "       4, 4, 4, 4, 4, 2, 2, 2, 2, 4, 2, 2, 2, 2, 2, 2, 2, 4, 2, 4, 4, 4,\n",
              "       4, 2, 2, 2, 2, 2, 4, 4, 4, 2, 2, 2])"
            ]
          },
          "metadata": {
            "tags": []
          },
          "execution_count": 40
        }
      ]
    },
    {
      "cell_type": "code",
      "metadata": {
        "id": "KHwICBhCERJB",
        "colab_type": "code",
        "colab": {}
      },
      "source": [
        "from scipy.stats import zscore"
      ],
      "execution_count": 41,
      "outputs": []
    },
    {
      "cell_type": "code",
      "metadata": {
        "id": "OY014-iuEWZn",
        "colab_type": "code",
        "colab": {
          "base_uri": "https://localhost:8080/",
          "height": 34
        },
        "outputId": "98d24b04-33d0-4a43-aa0b-6edcc8cfe15e"
      },
      "source": [
        "print(\"KNeighborsClassifier Algorithm has predicted {0:2g}%\".format(KNN.score(X_test,y_test)*100))"
      ],
      "execution_count": 42,
      "outputs": [
        {
          "output_type": "stream",
          "text": [
            "KNeighborsClassifier Algorithm has predicted 97.1429%\n"
          ],
          "name": "stdout"
        }
      ]
    },
    {
      "cell_type": "markdown",
      "metadata": {
        "id": "X291_26QEcdo",
        "colab_type": "text"
      },
      "source": [
        "**Support Vector Machine**"
      ]
    },
    {
      "cell_type": "code",
      "metadata": {
        "id": "G6TXvU1SEZeH",
        "colab_type": "code",
        "colab": {}
      },
      "source": [
        "from sklearn.svm import SVC"
      ],
      "execution_count": 43,
      "outputs": []
    },
    {
      "cell_type": "code",
      "metadata": {
        "id": "bJXy3iAgEhQK",
        "colab_type": "code",
        "colab": {
          "base_uri": "https://localhost:8080/",
          "height": 85
        },
        "outputId": "f9226f37-c5f8-4f44-cf6e-a8fd8a2822a9"
      },
      "source": [
        "svc=SVC(gamma=0.025, C=3)\n",
        "svc.fit(X_train,y_train)"
      ],
      "execution_count": 44,
      "outputs": [
        {
          "output_type": "execute_result",
          "data": {
            "text/plain": [
              "SVC(C=3, break_ties=False, cache_size=200, class_weight=None, coef0=0.0,\n",
              "    decision_function_shape='ovr', degree=3, gamma=0.025, kernel='rbf',\n",
              "    max_iter=-1, probability=False, random_state=None, shrinking=True,\n",
              "    tol=0.001, verbose=False)"
            ]
          },
          "metadata": {
            "tags": []
          },
          "execution_count": 44
        }
      ]
    },
    {
      "cell_type": "code",
      "metadata": {
        "id": "AeC1awxSEsFN",
        "colab_type": "code",
        "colab": {
          "base_uri": "https://localhost:8080/",
          "height": 187
        },
        "outputId": "98b5d129-ddc3-4d34-af0b-638e1a4f53ea"
      },
      "source": [
        "prediction_2=svc.predict(X_test)\n",
        "prediction_2"
      ],
      "execution_count": 45,
      "outputs": [
        {
          "output_type": "execute_result",
          "data": {
            "text/plain": [
              "array([2, 2, 2, 4, 2, 2, 4, 2, 2, 2, 4, 4, 2, 2, 4, 4, 2, 2, 2, 2, 2, 4,\n",
              "       4, 2, 4, 2, 4, 4, 2, 2, 2, 4, 4, 4, 4, 4, 2, 4, 2, 2, 2, 2, 2, 2,\n",
              "       2, 4, 2, 2, 2, 2, 2, 2, 4, 2, 4, 4, 4, 2, 2, 4, 2, 2, 2, 2, 2, 2,\n",
              "       2, 4, 2, 2, 2, 2, 2, 2, 4, 4, 2, 2, 2, 2, 4, 4, 2, 4, 2, 2, 2, 4,\n",
              "       4, 2, 4, 2, 2, 2, 2, 4, 2, 2, 2, 2, 2, 4, 4, 2, 2, 4, 4, 2, 4, 2,\n",
              "       4, 2, 2, 2, 2, 2, 2, 2, 2, 2, 2, 4, 4, 4, 2, 4, 2, 4, 2, 2, 2, 4,\n",
              "       4, 2, 4, 2, 2, 2, 4, 4, 2, 4, 2, 2, 2, 4, 2, 4, 2, 2, 2, 2, 2, 4,\n",
              "       2, 2, 2, 2, 2, 2, 2, 4, 2, 2, 4, 4, 2, 2, 2, 2, 2, 4, 4, 2, 2, 4,\n",
              "       4, 4, 4, 4, 4, 2, 2, 2, 2, 4, 2, 2, 2, 2, 2, 2, 2, 4, 2, 4, 4, 4,\n",
              "       4, 2, 2, 2, 2, 2, 4, 4, 4, 2, 2, 2])"
            ]
          },
          "metadata": {
            "tags": []
          },
          "execution_count": 45
        }
      ]
    },
    {
      "cell_type": "code",
      "metadata": {
        "id": "BUBZjo4NEwXY",
        "colab_type": "code",
        "colab": {
          "base_uri": "https://localhost:8080/",
          "height": 34
        },
        "outputId": "fbca9f21-88dd-4fe8-e328-1ed4b27d5e18"
      },
      "source": [
        "print(\"Support Vector Machine Algorithm has predicted {0:2g}%\".format(svc.score(X_test,y_test)*100))"
      ],
      "execution_count": 46,
      "outputs": [
        {
          "output_type": "stream",
          "text": [
            "Support Vector Machine Algorithm has predicted 98.0952%\n"
          ],
          "name": "stdout"
        }
      ]
    },
    {
      "cell_type": "code",
      "metadata": {
        "id": "Qf2jQQ8ME0AJ",
        "colab_type": "code",
        "colab": {}
      },
      "source": [
        "Knn_Predictions=pd.DataFrame(predicted_1)\n",
        "Svc_Predictions=pd.DataFrame(prediction_2)"
      ],
      "execution_count": 47,
      "outputs": []
    },
    {
      "cell_type": "code",
      "metadata": {
        "id": "Uq51-mTGE5zI",
        "colab_type": "code",
        "colab": {}
      },
      "source": [
        "df_new=pd.concat([Knn_Predictions,Svc_Predictions],axis=1)"
      ],
      "execution_count": 48,
      "outputs": []
    },
    {
      "cell_type": "code",
      "metadata": {
        "id": "Icg05nZ-E8g_",
        "colab_type": "code",
        "colab": {
          "base_uri": "https://localhost:8080/",
          "height": 419
        },
        "outputId": "0638ae40-b9b0-4a82-d1bc-99e821924032"
      },
      "source": [
        "df_new.columns=[['Knn_Predictions','Svc_Predictions']]\n",
        "df_new"
      ],
      "execution_count": 49,
      "outputs": [
        {
          "output_type": "execute_result",
          "data": {
            "text/html": [
              "<div>\n",
              "<style scoped>\n",
              "    .dataframe tbody tr th:only-of-type {\n",
              "        vertical-align: middle;\n",
              "    }\n",
              "\n",
              "    .dataframe tbody tr th {\n",
              "        vertical-align: top;\n",
              "    }\n",
              "\n",
              "    .dataframe thead tr th {\n",
              "        text-align: left;\n",
              "    }\n",
              "</style>\n",
              "<table border=\"1\" class=\"dataframe\">\n",
              "  <thead>\n",
              "    <tr>\n",
              "      <th></th>\n",
              "      <th>Knn_Predictions</th>\n",
              "      <th>Svc_Predictions</th>\n",
              "    </tr>\n",
              "  </thead>\n",
              "  <tbody>\n",
              "    <tr>\n",
              "      <th>0</th>\n",
              "      <td>2</td>\n",
              "      <td>2</td>\n",
              "    </tr>\n",
              "    <tr>\n",
              "      <th>1</th>\n",
              "      <td>2</td>\n",
              "      <td>2</td>\n",
              "    </tr>\n",
              "    <tr>\n",
              "      <th>2</th>\n",
              "      <td>2</td>\n",
              "      <td>2</td>\n",
              "    </tr>\n",
              "    <tr>\n",
              "      <th>3</th>\n",
              "      <td>4</td>\n",
              "      <td>4</td>\n",
              "    </tr>\n",
              "    <tr>\n",
              "      <th>4</th>\n",
              "      <td>2</td>\n",
              "      <td>2</td>\n",
              "    </tr>\n",
              "    <tr>\n",
              "      <th>...</th>\n",
              "      <td>...</td>\n",
              "      <td>...</td>\n",
              "    </tr>\n",
              "    <tr>\n",
              "      <th>205</th>\n",
              "      <td>4</td>\n",
              "      <td>4</td>\n",
              "    </tr>\n",
              "    <tr>\n",
              "      <th>206</th>\n",
              "      <td>4</td>\n",
              "      <td>4</td>\n",
              "    </tr>\n",
              "    <tr>\n",
              "      <th>207</th>\n",
              "      <td>2</td>\n",
              "      <td>2</td>\n",
              "    </tr>\n",
              "    <tr>\n",
              "      <th>208</th>\n",
              "      <td>2</td>\n",
              "      <td>2</td>\n",
              "    </tr>\n",
              "    <tr>\n",
              "      <th>209</th>\n",
              "      <td>2</td>\n",
              "      <td>2</td>\n",
              "    </tr>\n",
              "  </tbody>\n",
              "</table>\n",
              "<p>210 rows × 2 columns</p>\n",
              "</div>"
            ],
            "text/plain": [
              "    Knn_Predictions Svc_Predictions\n",
              "0                 2               2\n",
              "1                 2               2\n",
              "2                 2               2\n",
              "3                 4               4\n",
              "4                 2               2\n",
              "..              ...             ...\n",
              "205               4               4\n",
              "206               4               4\n",
              "207               2               2\n",
              "208               2               2\n",
              "209               2               2\n",
              "\n",
              "[210 rows x 2 columns]"
            ]
          },
          "metadata": {
            "tags": []
          },
          "execution_count": 49
        }
      ]
    },
    {
      "cell_type": "code",
      "metadata": {
        "id": "Ftj-SGQNE_Tx",
        "colab_type": "code",
        "colab": {}
      },
      "source": [
        "from sklearn.metrics import classification_report"
      ],
      "execution_count": 50,
      "outputs": []
    },
    {
      "cell_type": "code",
      "metadata": {
        "id": "hlUHEPzdFHLt",
        "colab_type": "code",
        "colab": {
          "base_uri": "https://localhost:8080/",
          "height": 204
        },
        "outputId": "11fabcd9-1b7a-4f54-d53d-dd229f6fca64"
      },
      "source": [
        "print('KNN Classification Report')\n",
        "\n",
        "print('>>>'*10)\n",
        "\n",
        "print(classification_report(y_test,predicted_1))"
      ],
      "execution_count": 51,
      "outputs": [
        {
          "output_type": "stream",
          "text": [
            "KNN Classification Report\n",
            ">>>>>>>>>>>>>>>>>>>>>>>>>>>>>>\n",
            "              precision    recall  f1-score   support\n",
            "\n",
            "           2       0.96      0.99      0.98       137\n",
            "           4       0.99      0.93      0.96        73\n",
            "\n",
            "    accuracy                           0.97       210\n",
            "   macro avg       0.98      0.96      0.97       210\n",
            "weighted avg       0.97      0.97      0.97       210\n",
            "\n"
          ],
          "name": "stdout"
        }
      ]
    },
    {
      "cell_type": "code",
      "metadata": {
        "id": "epVsDC2sFKOH",
        "colab_type": "code",
        "colab": {
          "base_uri": "https://localhost:8080/",
          "height": 204
        },
        "outputId": "67620e81-fdc3-41dd-9f13-6505b371b351"
      },
      "source": [
        "print('SVC Classification Report')\n",
        "\n",
        "print('>>>'*10)\n",
        "\n",
        "print(classification_report(y_test,prediction_2))"
      ],
      "execution_count": 52,
      "outputs": [
        {
          "output_type": "stream",
          "text": [
            "SVC Classification Report\n",
            ">>>>>>>>>>>>>>>>>>>>>>>>>>>>>>\n",
            "              precision    recall  f1-score   support\n",
            "\n",
            "           2       0.99      0.99      0.99       137\n",
            "           4       0.97      0.97      0.97        73\n",
            "\n",
            "    accuracy                           0.98       210\n",
            "   macro avg       0.98      0.98      0.98       210\n",
            "weighted avg       0.98      0.98      0.98       210\n",
            "\n"
          ],
          "name": "stdout"
        }
      ]
    },
    {
      "cell_type": "markdown",
      "metadata": {
        "id": "tBmn_JyZV6hm",
        "colab_type": "text"
      },
      "source": [
        "**Let's try Lazy Predict The All-rounder!**"
      ]
    },
    {
      "cell_type": "code",
      "metadata": {
        "id": "pfeAUL9eMnJ-",
        "colab_type": "code",
        "colab": {
          "base_uri": "https://localhost:8080/",
          "height": 102
        },
        "outputId": "8ef4ea8c-64c1-4d91-9cd7-d7b948f83e26"
      },
      "source": [
        "!pip install lazypredict"
      ],
      "execution_count": 58,
      "outputs": [
        {
          "output_type": "stream",
          "text": [
            "Collecting lazypredict\n",
            "  Downloading https://files.pythonhosted.org/packages/fe/7f/ee936a25b600eec90a112ac1b2de7b56ea9b58ae5a8bbc2c7d870a35037a/lazypredict-0.2.6-py2.py3-none-any.whl\n",
            "Requirement already satisfied: Click>=7.0 in /usr/local/lib/python3.6/dist-packages (from lazypredict) (7.1.2)\n",
            "Installing collected packages: lazypredict\n",
            "Successfully installed lazypredict-0.2.6\n"
          ],
          "name": "stdout"
        }
      ]
    },
    {
      "cell_type": "code",
      "metadata": {
        "id": "y-AqRSGFN6YA",
        "colab_type": "code",
        "colab": {}
      },
      "source": [
        "import lazypredict\n",
        "from lazypredict.Supervised import LazyClassifier"
      ],
      "execution_count": 61,
      "outputs": []
    },
    {
      "cell_type": "code",
      "metadata": {
        "id": "nEAcKGg9N87d",
        "colab_type": "code",
        "colab": {
          "base_uri": "https://localhost:8080/",
          "height": 1000
        },
        "outputId": "acaba66b-7b8d-4092-a58c-3afc73d3778c"
      },
      "source": [
        "data = my_df\n",
        "X=my_df.drop('class',axis=1)\n",
        "y=my_df['class']\n",
        "X_train, X_test, y_train, y_test = train_test_split(X, y,test_size=.3,random_state =1)\n",
        "clf = LazyClassifier(verbose=0,ignore_warnings=True, custom_metric=None)\n",
        "models,predictions = clf.fit(X_train, X_test, y_train, y_test)\n",
        "models"
      ],
      "execution_count": 63,
      "outputs": [
        {
          "output_type": "stream",
          "text": [
            " 94%|█████████▎| 29/31 [00:01<00:00, 24.68it/s]"
          ],
          "name": "stderr"
        },
        {
          "output_type": "stream",
          "text": [
            "Learning rate set to 0.00759\n",
            "0:\tlearn: 0.6788821\ttotal: 49.3ms\tremaining: 49.2s\n",
            "1:\tlearn: 0.6653885\ttotal: 50.2ms\tremaining: 25s\n",
            "2:\tlearn: 0.6508626\ttotal: 51ms\tremaining: 16.9s\n",
            "3:\tlearn: 0.6354642\ttotal: 51.7ms\tremaining: 12.9s\n",
            "4:\tlearn: 0.6240924\ttotal: 52.5ms\tremaining: 10.5s\n",
            "5:\tlearn: 0.6101615\ttotal: 53.3ms\tremaining: 8.83s\n",
            "6:\tlearn: 0.5986513\ttotal: 54ms\tremaining: 7.66s\n",
            "7:\tlearn: 0.5847635\ttotal: 54.8ms\tremaining: 6.79s\n",
            "8:\tlearn: 0.5712522\ttotal: 55.6ms\tremaining: 6.12s\n",
            "9:\tlearn: 0.5586419\ttotal: 56.3ms\tremaining: 5.57s\n",
            "10:\tlearn: 0.5467482\ttotal: 57ms\tremaining: 5.13s\n",
            "11:\tlearn: 0.5373036\ttotal: 57.6ms\tremaining: 4.74s\n",
            "12:\tlearn: 0.5276300\ttotal: 58.3ms\tremaining: 4.43s\n",
            "13:\tlearn: 0.5172605\ttotal: 59.1ms\tremaining: 4.16s\n",
            "14:\tlearn: 0.5064594\ttotal: 59.8ms\tremaining: 3.93s\n",
            "15:\tlearn: 0.4969149\ttotal: 60.4ms\tremaining: 3.72s\n",
            "16:\tlearn: 0.4880565\ttotal: 61.2ms\tremaining: 3.54s\n",
            "17:\tlearn: 0.4795271\ttotal: 61.9ms\tremaining: 3.38s\n",
            "18:\tlearn: 0.4684212\ttotal: 62.7ms\tremaining: 3.23s\n",
            "19:\tlearn: 0.4586300\ttotal: 63.4ms\tremaining: 3.11s\n",
            "20:\tlearn: 0.4513635\ttotal: 64ms\tremaining: 2.98s\n",
            "21:\tlearn: 0.4417230\ttotal: 64.7ms\tremaining: 2.88s\n",
            "22:\tlearn: 0.4325106\ttotal: 65.4ms\tremaining: 2.78s\n",
            "23:\tlearn: 0.4231176\ttotal: 66.2ms\tremaining: 2.69s\n",
            "24:\tlearn: 0.4171020\ttotal: 66.9ms\tremaining: 2.61s\n",
            "25:\tlearn: 0.4087306\ttotal: 67.7ms\tremaining: 2.53s\n",
            "26:\tlearn: 0.4017816\ttotal: 68.4ms\tremaining: 2.46s\n",
            "27:\tlearn: 0.3947090\ttotal: 69.1ms\tremaining: 2.4s\n",
            "28:\tlearn: 0.3872385\ttotal: 69.9ms\tremaining: 2.34s\n",
            "29:\tlearn: 0.3793676\ttotal: 70.6ms\tremaining: 2.28s\n",
            "30:\tlearn: 0.3722323\ttotal: 71.4ms\tremaining: 2.23s\n",
            "31:\tlearn: 0.3658596\ttotal: 72.1ms\tremaining: 2.18s\n",
            "32:\tlearn: 0.3597680\ttotal: 72.9ms\tremaining: 2.13s\n",
            "33:\tlearn: 0.3542788\ttotal: 73.6ms\tremaining: 2.09s\n",
            "34:\tlearn: 0.3475122\ttotal: 74.3ms\tremaining: 2.05s\n",
            "35:\tlearn: 0.3427301\ttotal: 75.1ms\tremaining: 2.01s\n",
            "36:\tlearn: 0.3365008\ttotal: 75.8ms\tremaining: 1.97s\n",
            "37:\tlearn: 0.3312002\ttotal: 76.5ms\tremaining: 1.94s\n",
            "38:\tlearn: 0.3273156\ttotal: 77ms\tremaining: 1.9s\n",
            "39:\tlearn: 0.3221704\ttotal: 77.7ms\tremaining: 1.86s\n",
            "40:\tlearn: 0.3160372\ttotal: 78.4ms\tremaining: 1.83s\n",
            "41:\tlearn: 0.3104328\ttotal: 79.2ms\tremaining: 1.8s\n",
            "42:\tlearn: 0.3060208\ttotal: 79.9ms\tremaining: 1.78s\n",
            "43:\tlearn: 0.3005822\ttotal: 80.5ms\tremaining: 1.75s\n",
            "44:\tlearn: 0.2951343\ttotal: 81.3ms\tremaining: 1.73s\n",
            "45:\tlearn: 0.2910888\ttotal: 82ms\tremaining: 1.7s\n",
            "46:\tlearn: 0.2865856\ttotal: 82.8ms\tremaining: 1.68s\n",
            "47:\tlearn: 0.2826945\ttotal: 83.5ms\tremaining: 1.66s\n",
            "48:\tlearn: 0.2775279\ttotal: 84.2ms\tremaining: 1.64s\n",
            "49:\tlearn: 0.2733675\ttotal: 84.9ms\tremaining: 1.61s\n",
            "50:\tlearn: 0.2686439\ttotal: 85.7ms\tremaining: 1.59s\n",
            "51:\tlearn: 0.2652297\ttotal: 86.4ms\tremaining: 1.57s\n",
            "52:\tlearn: 0.2613374\ttotal: 87.1ms\tremaining: 1.55s\n",
            "53:\tlearn: 0.2569417\ttotal: 87.8ms\tremaining: 1.54s\n",
            "54:\tlearn: 0.2528917\ttotal: 88.5ms\tremaining: 1.52s\n",
            "55:\tlearn: 0.2506820\ttotal: 89.3ms\tremaining: 1.5s\n",
            "56:\tlearn: 0.2466296\ttotal: 90ms\tremaining: 1.49s\n",
            "57:\tlearn: 0.2431826\ttotal: 90.7ms\tremaining: 1.47s\n",
            "58:\tlearn: 0.2400354\ttotal: 91.5ms\tremaining: 1.46s\n",
            "59:\tlearn: 0.2365093\ttotal: 92.2ms\tremaining: 1.44s\n",
            "60:\tlearn: 0.2326428\ttotal: 92.9ms\tremaining: 1.43s\n",
            "61:\tlearn: 0.2308288\ttotal: 93.6ms\tremaining: 1.42s\n",
            "62:\tlearn: 0.2279444\ttotal: 94.4ms\tremaining: 1.4s\n",
            "63:\tlearn: 0.2250142\ttotal: 95.1ms\tremaining: 1.39s\n",
            "64:\tlearn: 0.2225722\ttotal: 96ms\tremaining: 1.38s\n",
            "65:\tlearn: 0.2197048\ttotal: 96.7ms\tremaining: 1.37s\n",
            "66:\tlearn: 0.2170771\ttotal: 97.4ms\tremaining: 1.36s\n",
            "67:\tlearn: 0.2147487\ttotal: 98.2ms\tremaining: 1.34s\n",
            "68:\tlearn: 0.2123303\ttotal: 98.9ms\tremaining: 1.33s\n",
            "69:\tlearn: 0.2093287\ttotal: 99.6ms\tremaining: 1.32s\n",
            "70:\tlearn: 0.2063216\ttotal: 100ms\tremaining: 1.31s\n",
            "71:\tlearn: 0.2038832\ttotal: 101ms\tremaining: 1.3s\n",
            "72:\tlearn: 0.2010811\ttotal: 102ms\tremaining: 1.29s\n",
            "73:\tlearn: 0.1983062\ttotal: 103ms\tremaining: 1.28s\n",
            "74:\tlearn: 0.1959724\ttotal: 103ms\tremaining: 1.27s\n",
            "75:\tlearn: 0.1933415\ttotal: 104ms\tremaining: 1.26s\n",
            "76:\tlearn: 0.1909024\ttotal: 105ms\tremaining: 1.25s\n",
            "77:\tlearn: 0.1893414\ttotal: 105ms\tremaining: 1.25s\n",
            "78:\tlearn: 0.1870321\ttotal: 106ms\tremaining: 1.24s\n",
            "79:\tlearn: 0.1846751\ttotal: 107ms\tremaining: 1.23s\n",
            "80:\tlearn: 0.1831704\ttotal: 108ms\tremaining: 1.22s\n",
            "81:\tlearn: 0.1811024\ttotal: 108ms\tremaining: 1.21s\n",
            "82:\tlearn: 0.1787038\ttotal: 109ms\tremaining: 1.21s\n",
            "83:\tlearn: 0.1768360\ttotal: 110ms\tremaining: 1.2s\n",
            "84:\tlearn: 0.1748544\ttotal: 111ms\tremaining: 1.19s\n",
            "85:\tlearn: 0.1729274\ttotal: 112ms\tremaining: 1.19s\n",
            "86:\tlearn: 0.1708157\ttotal: 112ms\tremaining: 1.18s\n",
            "87:\tlearn: 0.1691538\ttotal: 113ms\tremaining: 1.17s\n",
            "88:\tlearn: 0.1675722\ttotal: 114ms\tremaining: 1.17s\n",
            "89:\tlearn: 0.1659351\ttotal: 115ms\tremaining: 1.16s\n",
            "90:\tlearn: 0.1643324\ttotal: 115ms\tremaining: 1.15s\n",
            "91:\tlearn: 0.1629913\ttotal: 116ms\tremaining: 1.15s\n",
            "92:\tlearn: 0.1612139\ttotal: 117ms\tremaining: 1.14s\n",
            "93:\tlearn: 0.1595183\ttotal: 118ms\tremaining: 1.13s\n",
            "94:\tlearn: 0.1584568\ttotal: 118ms\tremaining: 1.12s\n",
            "95:\tlearn: 0.1566318\ttotal: 119ms\tremaining: 1.12s\n",
            "96:\tlearn: 0.1550238\ttotal: 119ms\tremaining: 1.11s\n",
            "97:\tlearn: 0.1536862\ttotal: 120ms\tremaining: 1.1s\n",
            "98:\tlearn: 0.1524834\ttotal: 121ms\tremaining: 1.1s\n",
            "99:\tlearn: 0.1510831\ttotal: 122ms\tremaining: 1.09s\n",
            "100:\tlearn: 0.1498512\ttotal: 122ms\tremaining: 1.09s\n",
            "101:\tlearn: 0.1486502\ttotal: 123ms\tremaining: 1.08s\n",
            "102:\tlearn: 0.1475593\ttotal: 124ms\tremaining: 1.08s\n",
            "103:\tlearn: 0.1461308\ttotal: 124ms\tremaining: 1.07s\n",
            "104:\tlearn: 0.1448513\ttotal: 125ms\tremaining: 1.07s\n",
            "105:\tlearn: 0.1435439\ttotal: 126ms\tremaining: 1.06s\n",
            "106:\tlearn: 0.1422920\ttotal: 127ms\tremaining: 1.06s\n",
            "107:\tlearn: 0.1409212\ttotal: 127ms\tremaining: 1.05s\n",
            "108:\tlearn: 0.1400301\ttotal: 128ms\tremaining: 1.05s\n",
            "109:\tlearn: 0.1386456\ttotal: 129ms\tremaining: 1.04s\n",
            "110:\tlearn: 0.1376727\ttotal: 141ms\tremaining: 1.13s\n",
            "111:\tlearn: 0.1367643\ttotal: 142ms\tremaining: 1.13s\n",
            "112:\tlearn: 0.1358832\ttotal: 143ms\tremaining: 1.12s\n",
            "113:\tlearn: 0.1347604\ttotal: 144ms\tremaining: 1.12s\n",
            "114:\tlearn: 0.1338544\ttotal: 145ms\tremaining: 1.11s\n",
            "115:\tlearn: 0.1330310\ttotal: 146ms\tremaining: 1.11s\n",
            "116:\tlearn: 0.1319310\ttotal: 146ms\tremaining: 1.1s\n",
            "117:\tlearn: 0.1306633\ttotal: 147ms\tremaining: 1.1s\n",
            "118:\tlearn: 0.1297354\ttotal: 148ms\tremaining: 1.09s\n",
            "119:\tlearn: 0.1289102\ttotal: 148ms\tremaining: 1.09s\n",
            "120:\tlearn: 0.1285124\ttotal: 149ms\tremaining: 1.08s\n",
            "121:\tlearn: 0.1272954\ttotal: 150ms\tremaining: 1.08s\n",
            "122:\tlearn: 0.1260827\ttotal: 151ms\tremaining: 1.07s\n",
            "123:\tlearn: 0.1248691\ttotal: 151ms\tremaining: 1.07s\n",
            "124:\tlearn: 0.1236807\ttotal: 152ms\tremaining: 1.06s\n",
            "125:\tlearn: 0.1228714\ttotal: 153ms\tremaining: 1.06s\n",
            "126:\tlearn: 0.1221900\ttotal: 154ms\tremaining: 1.05s\n",
            "127:\tlearn: 0.1212735\ttotal: 154ms\tremaining: 1.05s\n",
            "128:\tlearn: 0.1202111\ttotal: 155ms\tremaining: 1.05s\n",
            "129:\tlearn: 0.1192973\ttotal: 156ms\tremaining: 1.04s\n",
            "130:\tlearn: 0.1184528\ttotal: 157ms\tremaining: 1.04s\n",
            "131:\tlearn: 0.1173739\ttotal: 157ms\tremaining: 1.03s\n",
            "132:\tlearn: 0.1166415\ttotal: 158ms\tremaining: 1.03s\n",
            "133:\tlearn: 0.1156348\ttotal: 159ms\tremaining: 1.02s\n",
            "134:\tlearn: 0.1148301\ttotal: 159ms\tremaining: 1.02s\n",
            "135:\tlearn: 0.1138011\ttotal: 160ms\tremaining: 1.02s\n",
            "136:\tlearn: 0.1131749\ttotal: 161ms\tremaining: 1.01s\n",
            "137:\tlearn: 0.1124318\ttotal: 162ms\tremaining: 1.01s\n",
            "138:\tlearn: 0.1118468\ttotal: 162ms\tremaining: 1s\n",
            "139:\tlearn: 0.1112240\ttotal: 163ms\tremaining: 1s\n",
            "140:\tlearn: 0.1106751\ttotal: 164ms\tremaining: 998ms\n",
            "141:\tlearn: 0.1099649\ttotal: 165ms\tremaining: 994ms\n",
            "142:\tlearn: 0.1094024\ttotal: 165ms\tremaining: 991ms\n",
            "143:\tlearn: 0.1086169\ttotal: 166ms\tremaining: 987ms\n",
            "144:\tlearn: 0.1080401\ttotal: 167ms\tremaining: 984ms\n",
            "145:\tlearn: 0.1074069\ttotal: 168ms\tremaining: 980ms\n",
            "146:\tlearn: 0.1067209\ttotal: 168ms\tremaining: 976ms\n",
            "147:\tlearn: 0.1058579\ttotal: 169ms\tremaining: 973ms\n",
            "148:\tlearn: 0.1052386\ttotal: 170ms\tremaining: 969ms\n",
            "149:\tlearn: 0.1045102\ttotal: 170ms\tremaining: 966ms\n",
            "150:\tlearn: 0.1037534\ttotal: 171ms\tremaining: 963ms\n",
            "151:\tlearn: 0.1032180\ttotal: 172ms\tremaining: 959ms\n",
            "152:\tlearn: 0.1028202\ttotal: 173ms\tremaining: 956ms\n",
            "153:\tlearn: 0.1020713\ttotal: 173ms\tremaining: 953ms\n",
            "154:\tlearn: 0.1016239\ttotal: 174ms\tremaining: 949ms\n",
            "155:\tlearn: 0.1009075\ttotal: 175ms\tremaining: 946ms\n",
            "156:\tlearn: 0.1003647\ttotal: 176ms\tremaining: 943ms\n",
            "157:\tlearn: 0.0999469\ttotal: 176ms\tremaining: 940ms\n",
            "158:\tlearn: 0.0991487\ttotal: 177ms\tremaining: 936ms\n",
            "159:\tlearn: 0.0984779\ttotal: 178ms\tremaining: 933ms\n",
            "160:\tlearn: 0.0979867\ttotal: 179ms\tremaining: 930ms\n",
            "161:\tlearn: 0.0972231\ttotal: 179ms\tremaining: 927ms\n",
            "162:\tlearn: 0.0966811\ttotal: 180ms\tremaining: 924ms\n",
            "163:\tlearn: 0.0959962\ttotal: 181ms\tremaining: 921ms\n",
            "164:\tlearn: 0.0956835\ttotal: 182ms\tremaining: 922ms\n",
            "165:\tlearn: 0.0952587\ttotal: 183ms\tremaining: 920ms\n",
            "166:\tlearn: 0.0947976\ttotal: 184ms\tremaining: 919ms\n",
            "167:\tlearn: 0.0943355\ttotal: 185ms\tremaining: 917ms\n",
            "168:\tlearn: 0.0936883\ttotal: 186ms\tremaining: 915ms\n",
            "169:\tlearn: 0.0931074\ttotal: 187ms\tremaining: 914ms\n",
            "170:\tlearn: 0.0926302\ttotal: 189ms\tremaining: 916ms\n",
            "171:\tlearn: 0.0920927\ttotal: 190ms\tremaining: 914ms\n",
            "172:\tlearn: 0.0916306\ttotal: 191ms\tremaining: 911ms\n",
            "173:\tlearn: 0.0909660\ttotal: 192ms\tremaining: 909ms\n",
            "174:\tlearn: 0.0905336\ttotal: 192ms\tremaining: 907ms\n",
            "175:\tlearn: 0.0901967\ttotal: 193ms\tremaining: 904ms\n",
            "176:\tlearn: 0.0898489\ttotal: 194ms\tremaining: 902ms\n",
            "177:\tlearn: 0.0894819\ttotal: 195ms\tremaining: 900ms\n",
            "178:\tlearn: 0.0890073\ttotal: 196ms\tremaining: 897ms\n",
            "179:\tlearn: 0.0886654\ttotal: 196ms\tremaining: 895ms\n",
            "180:\tlearn: 0.0883025\ttotal: 197ms\tremaining: 893ms\n",
            "181:\tlearn: 0.0879408\ttotal: 198ms\tremaining: 890ms\n",
            "182:\tlearn: 0.0874782\ttotal: 199ms\tremaining: 888ms\n",
            "183:\tlearn: 0.0871363\ttotal: 200ms\tremaining: 886ms\n",
            "184:\tlearn: 0.0867950\ttotal: 201ms\tremaining: 883ms\n",
            "185:\tlearn: 0.0862417\ttotal: 201ms\tremaining: 881ms\n",
            "186:\tlearn: 0.0857194\ttotal: 202ms\tremaining: 879ms\n",
            "187:\tlearn: 0.0852841\ttotal: 203ms\tremaining: 876ms\n",
            "188:\tlearn: 0.0848466\ttotal: 204ms\tremaining: 874ms\n",
            "189:\tlearn: 0.0845474\ttotal: 205ms\tremaining: 872ms\n",
            "190:\tlearn: 0.0842365\ttotal: 205ms\tremaining: 870ms\n",
            "191:\tlearn: 0.0837884\ttotal: 206ms\tremaining: 868ms\n",
            "192:\tlearn: 0.0833844\ttotal: 207ms\tremaining: 866ms\n",
            "193:\tlearn: 0.0830472\ttotal: 208ms\tremaining: 864ms\n",
            "194:\tlearn: 0.0826056\ttotal: 209ms\tremaining: 862ms\n",
            "195:\tlearn: 0.0820403\ttotal: 210ms\tremaining: 859ms\n",
            "196:\tlearn: 0.0818133\ttotal: 210ms\tremaining: 857ms\n",
            "197:\tlearn: 0.0814475\ttotal: 211ms\tremaining: 855ms\n",
            "198:\tlearn: 0.0811298\ttotal: 212ms\tremaining: 854ms\n",
            "199:\tlearn: 0.0807199\ttotal: 213ms\tremaining: 852ms\n",
            "200:\tlearn: 0.0804471\ttotal: 214ms\tremaining: 850ms\n",
            "201:\tlearn: 0.0801455\ttotal: 215ms\tremaining: 848ms\n",
            "202:\tlearn: 0.0798078\ttotal: 215ms\tremaining: 845ms\n",
            "203:\tlearn: 0.0793560\ttotal: 216ms\tremaining: 843ms\n",
            "204:\tlearn: 0.0788627\ttotal: 217ms\tremaining: 841ms\n",
            "205:\tlearn: 0.0785830\ttotal: 218ms\tremaining: 839ms\n",
            "206:\tlearn: 0.0781660\ttotal: 218ms\tremaining: 836ms\n",
            "207:\tlearn: 0.0778663\ttotal: 219ms\tremaining: 834ms\n",
            "208:\tlearn: 0.0775016\ttotal: 220ms\tremaining: 832ms\n",
            "209:\tlearn: 0.0770589\ttotal: 221ms\tremaining: 830ms\n",
            "210:\tlearn: 0.0766876\ttotal: 221ms\tremaining: 827ms\n",
            "211:\tlearn: 0.0764533\ttotal: 222ms\tremaining: 826ms\n",
            "212:\tlearn: 0.0761003\ttotal: 223ms\tremaining: 824ms\n",
            "213:\tlearn: 0.0757442\ttotal: 224ms\tremaining: 821ms\n",
            "214:\tlearn: 0.0755211\ttotal: 224ms\tremaining: 819ms\n",
            "215:\tlearn: 0.0752762\ttotal: 225ms\tremaining: 817ms\n",
            "216:\tlearn: 0.0748215\ttotal: 226ms\tremaining: 815ms\n",
            "217:\tlearn: 0.0745558\ttotal: 227ms\tremaining: 813ms\n",
            "218:\tlearn: 0.0744255\ttotal: 227ms\tremaining: 810ms\n",
            "219:\tlearn: 0.0741211\ttotal: 228ms\tremaining: 808ms\n",
            "220:\tlearn: 0.0737276\ttotal: 228ms\tremaining: 805ms\n",
            "221:\tlearn: 0.0734127\ttotal: 229ms\tremaining: 803ms\n",
            "222:\tlearn: 0.0731137\ttotal: 230ms\tremaining: 801ms\n",
            "223:\tlearn: 0.0728274\ttotal: 231ms\tremaining: 799ms\n",
            "224:\tlearn: 0.0724359\ttotal: 231ms\tremaining: 797ms\n",
            "225:\tlearn: 0.0721771\ttotal: 232ms\tremaining: 795ms\n",
            "226:\tlearn: 0.0719449\ttotal: 233ms\tremaining: 793ms\n",
            "227:\tlearn: 0.0716382\ttotal: 234ms\tremaining: 791ms\n",
            "228:\tlearn: 0.0714215\ttotal: 234ms\tremaining: 789ms\n",
            "229:\tlearn: 0.0710044\ttotal: 235ms\tremaining: 787ms\n",
            "230:\tlearn: 0.0706625\ttotal: 236ms\tremaining: 785ms\n",
            "231:\tlearn: 0.0703437\ttotal: 236ms\tremaining: 783ms\n",
            "232:\tlearn: 0.0701604\ttotal: 237ms\tremaining: 781ms\n",
            "233:\tlearn: 0.0697787\ttotal: 238ms\tremaining: 779ms\n",
            "234:\tlearn: 0.0694887\ttotal: 239ms\tremaining: 777ms\n",
            "235:\tlearn: 0.0692361\ttotal: 239ms\tremaining: 775ms\n",
            "236:\tlearn: 0.0690341\ttotal: 240ms\tremaining: 773ms\n",
            "237:\tlearn: 0.0688022\ttotal: 241ms\tremaining: 771ms\n",
            "238:\tlearn: 0.0685983\ttotal: 241ms\tremaining: 769ms\n",
            "239:\tlearn: 0.0684635\ttotal: 242ms\tremaining: 767ms\n",
            "240:\tlearn: 0.0682515\ttotal: 243ms\tremaining: 765ms\n",
            "241:\tlearn: 0.0679600\ttotal: 244ms\tremaining: 763ms\n",
            "242:\tlearn: 0.0677381\ttotal: 244ms\tremaining: 761ms\n",
            "243:\tlearn: 0.0675075\ttotal: 245ms\tremaining: 760ms\n",
            "244:\tlearn: 0.0672539\ttotal: 246ms\tremaining: 758ms\n",
            "245:\tlearn: 0.0670819\ttotal: 247ms\tremaining: 756ms\n",
            "246:\tlearn: 0.0669382\ttotal: 247ms\tremaining: 754ms\n",
            "247:\tlearn: 0.0666785\ttotal: 248ms\tremaining: 752ms\n",
            "248:\tlearn: 0.0664196\ttotal: 249ms\tremaining: 750ms\n",
            "249:\tlearn: 0.0662258\ttotal: 249ms\tremaining: 748ms\n",
            "250:\tlearn: 0.0660598\ttotal: 250ms\tremaining: 746ms\n",
            "251:\tlearn: 0.0658708\ttotal: 251ms\tremaining: 745ms\n",
            "252:\tlearn: 0.0657658\ttotal: 251ms\tremaining: 742ms\n",
            "253:\tlearn: 0.0656104\ttotal: 252ms\tremaining: 741ms\n",
            "254:\tlearn: 0.0652727\ttotal: 253ms\tremaining: 739ms\n",
            "255:\tlearn: 0.0650522\ttotal: 254ms\tremaining: 737ms\n",
            "256:\tlearn: 0.0648894\ttotal: 254ms\tremaining: 735ms\n",
            "257:\tlearn: 0.0646030\ttotal: 255ms\tremaining: 734ms\n",
            "258:\tlearn: 0.0643543\ttotal: 256ms\tremaining: 732ms\n",
            "259:\tlearn: 0.0641163\ttotal: 257ms\tremaining: 730ms\n",
            "260:\tlearn: 0.0640173\ttotal: 257ms\tremaining: 728ms\n",
            "261:\tlearn: 0.0639146\ttotal: 258ms\tremaining: 727ms\n",
            "262:\tlearn: 0.0636571\ttotal: 259ms\tremaining: 725ms\n",
            "263:\tlearn: 0.0634765\ttotal: 259ms\tremaining: 723ms\n",
            "264:\tlearn: 0.0632549\ttotal: 260ms\tremaining: 722ms\n",
            "265:\tlearn: 0.0630622\ttotal: 261ms\tremaining: 720ms\n",
            "266:\tlearn: 0.0628568\ttotal: 262ms\tremaining: 718ms\n",
            "267:\tlearn: 0.0627255\ttotal: 262ms\tremaining: 716ms\n",
            "268:\tlearn: 0.0624145\ttotal: 263ms\tremaining: 715ms\n",
            "269:\tlearn: 0.0621889\ttotal: 264ms\tremaining: 713ms\n",
            "270:\tlearn: 0.0618914\ttotal: 264ms\tremaining: 711ms\n",
            "271:\tlearn: 0.0617528\ttotal: 265ms\tremaining: 710ms\n",
            "272:\tlearn: 0.0615873\ttotal: 266ms\tremaining: 708ms\n",
            "273:\tlearn: 0.0613593\ttotal: 267ms\tremaining: 706ms\n",
            "274:\tlearn: 0.0611549\ttotal: 267ms\tremaining: 705ms\n",
            "275:\tlearn: 0.0609486\ttotal: 268ms\tremaining: 703ms\n",
            "276:\tlearn: 0.0608212\ttotal: 269ms\tremaining: 701ms\n",
            "277:\tlearn: 0.0606412\ttotal: 270ms\tremaining: 700ms\n",
            "278:\tlearn: 0.0604813\ttotal: 270ms\tremaining: 698ms\n",
            "279:\tlearn: 0.0601981\ttotal: 271ms\tremaining: 697ms\n",
            "280:\tlearn: 0.0599521\ttotal: 272ms\tremaining: 695ms\n",
            "281:\tlearn: 0.0596804\ttotal: 272ms\tremaining: 693ms\n",
            "282:\tlearn: 0.0594361\ttotal: 273ms\tremaining: 692ms\n",
            "283:\tlearn: 0.0592052\ttotal: 274ms\tremaining: 690ms\n",
            "284:\tlearn: 0.0589585\ttotal: 275ms\tremaining: 689ms\n",
            "285:\tlearn: 0.0586624\ttotal: 275ms\tremaining: 687ms\n",
            "286:\tlearn: 0.0584594\ttotal: 276ms\tremaining: 686ms\n",
            "287:\tlearn: 0.0583349\ttotal: 277ms\tremaining: 684ms\n",
            "288:\tlearn: 0.0580782\ttotal: 277ms\tremaining: 683ms\n",
            "289:\tlearn: 0.0579555\ttotal: 278ms\tremaining: 681ms\n",
            "290:\tlearn: 0.0577694\ttotal: 279ms\tremaining: 680ms\n",
            "291:\tlearn: 0.0576289\ttotal: 280ms\tremaining: 678ms\n",
            "292:\tlearn: 0.0573803\ttotal: 280ms\tremaining: 676ms\n",
            "293:\tlearn: 0.0572768\ttotal: 281ms\tremaining: 675ms\n",
            "294:\tlearn: 0.0572310\ttotal: 282ms\tremaining: 673ms\n",
            "295:\tlearn: 0.0570778\ttotal: 282ms\tremaining: 671ms\n",
            "296:\tlearn: 0.0569110\ttotal: 283ms\tremaining: 670ms\n",
            "297:\tlearn: 0.0567658\ttotal: 284ms\tremaining: 668ms\n",
            "298:\tlearn: 0.0565893\ttotal: 284ms\tremaining: 667ms\n",
            "299:\tlearn: 0.0563850\ttotal: 285ms\tremaining: 665ms\n",
            "300:\tlearn: 0.0561856\ttotal: 286ms\tremaining: 664ms\n",
            "301:\tlearn: 0.0561214\ttotal: 286ms\tremaining: 662ms\n",
            "302:\tlearn: 0.0559948\ttotal: 287ms\tremaining: 661ms\n",
            "303:\tlearn: 0.0558690\ttotal: 288ms\tremaining: 659ms\n",
            "304:\tlearn: 0.0557159\ttotal: 289ms\tremaining: 658ms\n",
            "305:\tlearn: 0.0555528\ttotal: 289ms\tremaining: 656ms\n",
            "306:\tlearn: 0.0553498\ttotal: 290ms\tremaining: 655ms\n",
            "307:\tlearn: 0.0552267\ttotal: 291ms\tremaining: 653ms\n",
            "308:\tlearn: 0.0549243\ttotal: 291ms\tremaining: 652ms\n",
            "309:\tlearn: 0.0547410\ttotal: 292ms\tremaining: 650ms\n",
            "310:\tlearn: 0.0545680\ttotal: 293ms\tremaining: 649ms\n",
            "311:\tlearn: 0.0543470\ttotal: 294ms\tremaining: 648ms\n",
            "312:\tlearn: 0.0542392\ttotal: 294ms\tremaining: 646ms\n",
            "313:\tlearn: 0.0539854\ttotal: 295ms\tremaining: 645ms\n",
            "314:\tlearn: 0.0538462\ttotal: 296ms\tremaining: 643ms\n",
            "315:\tlearn: 0.0537275\ttotal: 297ms\tremaining: 642ms\n",
            "316:\tlearn: 0.0535299\ttotal: 297ms\tremaining: 640ms\n",
            "317:\tlearn: 0.0534077\ttotal: 298ms\tremaining: 639ms\n",
            "318:\tlearn: 0.0532151\ttotal: 299ms\tremaining: 637ms\n",
            "319:\tlearn: 0.0530778\ttotal: 299ms\tremaining: 636ms\n",
            "320:\tlearn: 0.0529843\ttotal: 300ms\tremaining: 635ms\n",
            "321:\tlearn: 0.0527828\ttotal: 301ms\tremaining: 633ms\n",
            "322:\tlearn: 0.0526160\ttotal: 301ms\tremaining: 632ms\n",
            "323:\tlearn: 0.0524248\ttotal: 302ms\tremaining: 631ms\n",
            "324:\tlearn: 0.0523086\ttotal: 303ms\tremaining: 629ms\n",
            "325:\tlearn: 0.0522235\ttotal: 304ms\tremaining: 628ms\n",
            "326:\tlearn: 0.0520778\ttotal: 304ms\tremaining: 626ms\n",
            "327:\tlearn: 0.0518918\ttotal: 305ms\tremaining: 625ms\n",
            "328:\tlearn: 0.0516566\ttotal: 306ms\tremaining: 624ms\n",
            "329:\tlearn: 0.0515714\ttotal: 306ms\tremaining: 622ms\n",
            "330:\tlearn: 0.0514234\ttotal: 307ms\tremaining: 621ms\n",
            "331:\tlearn: 0.0513502\ttotal: 308ms\tremaining: 620ms\n",
            "332:\tlearn: 0.0512503\ttotal: 309ms\tremaining: 618ms\n",
            "333:\tlearn: 0.0511357\ttotal: 309ms\tremaining: 617ms\n",
            "334:\tlearn: 0.0510354\ttotal: 310ms\tremaining: 615ms\n",
            "335:\tlearn: 0.0509152\ttotal: 311ms\tremaining: 614ms\n",
            "336:\tlearn: 0.0508285\ttotal: 311ms\tremaining: 613ms\n",
            "337:\tlearn: 0.0506717\ttotal: 312ms\tremaining: 612ms\n",
            "338:\tlearn: 0.0505468\ttotal: 313ms\tremaining: 610ms\n",
            "339:\tlearn: 0.0503656\ttotal: 314ms\tremaining: 609ms\n",
            "340:\tlearn: 0.0502524\ttotal: 314ms\tremaining: 608ms\n",
            "341:\tlearn: 0.0501283\ttotal: 315ms\tremaining: 606ms\n",
            "342:\tlearn: 0.0500548\ttotal: 316ms\tremaining: 605ms\n",
            "343:\tlearn: 0.0500067\ttotal: 317ms\tremaining: 604ms\n",
            "344:\tlearn: 0.0498603\ttotal: 317ms\tremaining: 602ms\n",
            "345:\tlearn: 0.0497132\ttotal: 318ms\tremaining: 601ms\n",
            "346:\tlearn: 0.0496100\ttotal: 319ms\tremaining: 600ms\n",
            "347:\tlearn: 0.0495147\ttotal: 320ms\tremaining: 599ms\n",
            "348:\tlearn: 0.0493308\ttotal: 320ms\tremaining: 598ms\n",
            "349:\tlearn: 0.0492714\ttotal: 321ms\tremaining: 596ms\n",
            "350:\tlearn: 0.0492180\ttotal: 322ms\tremaining: 595ms\n",
            "351:\tlearn: 0.0491671\ttotal: 322ms\tremaining: 593ms\n",
            "352:\tlearn: 0.0490630\ttotal: 323ms\tremaining: 592ms\n",
            "353:\tlearn: 0.0489037\ttotal: 324ms\tremaining: 591ms\n",
            "354:\tlearn: 0.0487516\ttotal: 324ms\tremaining: 589ms\n",
            "355:\tlearn: 0.0485757\ttotal: 325ms\tremaining: 588ms\n",
            "356:\tlearn: 0.0484663\ttotal: 326ms\tremaining: 587ms\n",
            "357:\tlearn: 0.0483114\ttotal: 327ms\tremaining: 586ms\n",
            "358:\tlearn: 0.0480838\ttotal: 327ms\tremaining: 584ms\n",
            "359:\tlearn: 0.0479129\ttotal: 328ms\tremaining: 583ms\n",
            "360:\tlearn: 0.0477303\ttotal: 329ms\tremaining: 582ms\n",
            "361:\tlearn: 0.0476365\ttotal: 330ms\tremaining: 581ms\n",
            "362:\tlearn: 0.0475326\ttotal: 330ms\tremaining: 580ms\n",
            "363:\tlearn: 0.0474337\ttotal: 331ms\tremaining: 578ms\n",
            "364:\tlearn: 0.0473291\ttotal: 332ms\tremaining: 577ms\n",
            "365:\tlearn: 0.0471020\ttotal: 332ms\tremaining: 576ms\n",
            "366:\tlearn: 0.0469721\ttotal: 333ms\tremaining: 575ms\n",
            "367:\tlearn: 0.0469121\ttotal: 334ms\tremaining: 573ms\n",
            "368:\tlearn: 0.0468233\ttotal: 335ms\tremaining: 572ms\n",
            "369:\tlearn: 0.0466667\ttotal: 335ms\tremaining: 571ms\n",
            "370:\tlearn: 0.0465908\ttotal: 336ms\tremaining: 570ms\n",
            "371:\tlearn: 0.0464354\ttotal: 337ms\tremaining: 569ms\n",
            "372:\tlearn: 0.0463325\ttotal: 338ms\tremaining: 567ms\n",
            "373:\tlearn: 0.0462169\ttotal: 338ms\tremaining: 566ms\n",
            "374:\tlearn: 0.0461482\ttotal: 339ms\tremaining: 565ms\n",
            "375:\tlearn: 0.0460089\ttotal: 340ms\tremaining: 564ms\n",
            "376:\tlearn: 0.0458843\ttotal: 340ms\tremaining: 563ms\n",
            "377:\tlearn: 0.0458071\ttotal: 341ms\tremaining: 561ms\n",
            "378:\tlearn: 0.0457385\ttotal: 342ms\tremaining: 560ms\n",
            "379:\tlearn: 0.0455210\ttotal: 343ms\tremaining: 559ms\n",
            "380:\tlearn: 0.0454424\ttotal: 343ms\tremaining: 558ms\n",
            "381:\tlearn: 0.0453236\ttotal: 344ms\tremaining: 557ms\n",
            "382:\tlearn: 0.0452656\ttotal: 345ms\tremaining: 555ms\n",
            "383:\tlearn: 0.0451619\ttotal: 345ms\tremaining: 554ms\n",
            "384:\tlearn: 0.0450033\ttotal: 346ms\tremaining: 553ms\n",
            "385:\tlearn: 0.0448875\ttotal: 347ms\tremaining: 552ms\n",
            "386:\tlearn: 0.0447314\ttotal: 348ms\tremaining: 551ms\n",
            "387:\tlearn: 0.0446425\ttotal: 348ms\tremaining: 550ms\n",
            "388:\tlearn: 0.0445480\ttotal: 349ms\tremaining: 548ms\n",
            "389:\tlearn: 0.0443915\ttotal: 350ms\tremaining: 547ms\n",
            "390:\tlearn: 0.0443165\ttotal: 351ms\tremaining: 546ms\n",
            "391:\tlearn: 0.0441929\ttotal: 351ms\tremaining: 545ms\n",
            "392:\tlearn: 0.0440391\ttotal: 352ms\tremaining: 544ms\n",
            "393:\tlearn: 0.0439474\ttotal: 353ms\tremaining: 543ms\n",
            "394:\tlearn: 0.0437967\ttotal: 353ms\tremaining: 541ms\n",
            "395:\tlearn: 0.0437217\ttotal: 354ms\tremaining: 540ms\n",
            "396:\tlearn: 0.0436299\ttotal: 355ms\tremaining: 539ms\n",
            "397:\tlearn: 0.0434881\ttotal: 356ms\tremaining: 538ms\n",
            "398:\tlearn: 0.0434213\ttotal: 356ms\tremaining: 537ms\n",
            "399:\tlearn: 0.0433402\ttotal: 357ms\tremaining: 536ms\n",
            "400:\tlearn: 0.0431852\ttotal: 358ms\tremaining: 535ms\n",
            "401:\tlearn: 0.0431429\ttotal: 359ms\tremaining: 533ms\n",
            "402:\tlearn: 0.0429111\ttotal: 359ms\tremaining: 532ms\n",
            "403:\tlearn: 0.0428183\ttotal: 360ms\tremaining: 531ms\n",
            "404:\tlearn: 0.0426363\ttotal: 361ms\tremaining: 530ms\n",
            "405:\tlearn: 0.0425718\ttotal: 361ms\tremaining: 529ms\n",
            "406:\tlearn: 0.0424206\ttotal: 362ms\tremaining: 528ms\n",
            "407:\tlearn: 0.0423459\ttotal: 364ms\tremaining: 528ms\n",
            "408:\tlearn: 0.0422722\ttotal: 365ms\tremaining: 527ms\n",
            "409:\tlearn: 0.0421433\ttotal: 366ms\tremaining: 526ms\n",
            "410:\tlearn: 0.0420832\ttotal: 367ms\tremaining: 526ms\n",
            "411:\tlearn: 0.0420201\ttotal: 368ms\tremaining: 525ms\n",
            "412:\tlearn: 0.0418920\ttotal: 369ms\tremaining: 525ms\n",
            "413:\tlearn: 0.0417894\ttotal: 371ms\tremaining: 525ms\n",
            "414:\tlearn: 0.0416981\ttotal: 372ms\tremaining: 524ms\n",
            "415:\tlearn: 0.0415753\ttotal: 373ms\tremaining: 523ms\n",
            "416:\tlearn: 0.0414701\ttotal: 373ms\tremaining: 522ms\n",
            "417:\tlearn: 0.0413252\ttotal: 374ms\tremaining: 521ms\n",
            "418:\tlearn: 0.0412283\ttotal: 375ms\tremaining: 520ms\n",
            "419:\tlearn: 0.0411464\ttotal: 375ms\tremaining: 518ms\n",
            "420:\tlearn: 0.0410413\ttotal: 376ms\tremaining: 517ms\n",
            "421:\tlearn: 0.0409488\ttotal: 377ms\tremaining: 516ms\n",
            "422:\tlearn: 0.0408332\ttotal: 378ms\tremaining: 515ms\n",
            "423:\tlearn: 0.0406949\ttotal: 378ms\tremaining: 514ms\n",
            "424:\tlearn: 0.0406290\ttotal: 379ms\tremaining: 513ms\n",
            "425:\tlearn: 0.0404512\ttotal: 380ms\tremaining: 512ms\n",
            "426:\tlearn: 0.0403932\ttotal: 380ms\tremaining: 511ms\n",
            "427:\tlearn: 0.0403349\ttotal: 381ms\tremaining: 509ms\n",
            "428:\tlearn: 0.0402923\ttotal: 382ms\tremaining: 508ms\n",
            "429:\tlearn: 0.0401737\ttotal: 383ms\tremaining: 507ms\n",
            "430:\tlearn: 0.0400890\ttotal: 383ms\tremaining: 506ms\n",
            "431:\tlearn: 0.0400100\ttotal: 384ms\tremaining: 505ms\n",
            "432:\tlearn: 0.0398843\ttotal: 385ms\tremaining: 504ms\n",
            "433:\tlearn: 0.0398065\ttotal: 386ms\tremaining: 503ms\n",
            "434:\tlearn: 0.0397498\ttotal: 387ms\tremaining: 502ms\n",
            "435:\tlearn: 0.0396867\ttotal: 387ms\tremaining: 501ms\n",
            "436:\tlearn: 0.0396035\ttotal: 388ms\tremaining: 500ms\n",
            "437:\tlearn: 0.0395110\ttotal: 389ms\tremaining: 499ms\n",
            "438:\tlearn: 0.0394378\ttotal: 390ms\tremaining: 498ms\n",
            "439:\tlearn: 0.0392981\ttotal: 390ms\tremaining: 497ms\n",
            "440:\tlearn: 0.0392354\ttotal: 391ms\tremaining: 496ms\n",
            "441:\tlearn: 0.0390776\ttotal: 392ms\tremaining: 495ms\n",
            "442:\tlearn: 0.0390256\ttotal: 392ms\tremaining: 493ms\n",
            "443:\tlearn: 0.0388897\ttotal: 393ms\tremaining: 492ms\n",
            "444:\tlearn: 0.0388297\ttotal: 394ms\tremaining: 491ms\n",
            "445:\tlearn: 0.0387716\ttotal: 395ms\tremaining: 490ms\n",
            "446:\tlearn: 0.0387095\ttotal: 395ms\tremaining: 489ms\n",
            "447:\tlearn: 0.0386176\ttotal: 396ms\tremaining: 488ms\n",
            "448:\tlearn: 0.0385724\ttotal: 397ms\tremaining: 487ms\n",
            "449:\tlearn: 0.0383991\ttotal: 398ms\tremaining: 486ms\n",
            "450:\tlearn: 0.0383480\ttotal: 399ms\tremaining: 485ms\n",
            "451:\tlearn: 0.0383002\ttotal: 399ms\tremaining: 484ms\n",
            "452:\tlearn: 0.0381691\ttotal: 400ms\tremaining: 483ms\n",
            "453:\tlearn: 0.0380790\ttotal: 401ms\tremaining: 482ms\n",
            "454:\tlearn: 0.0379720\ttotal: 402ms\tremaining: 481ms\n",
            "455:\tlearn: 0.0379345\ttotal: 402ms\tremaining: 480ms\n",
            "456:\tlearn: 0.0378549\ttotal: 403ms\tremaining: 479ms\n",
            "457:\tlearn: 0.0377961\ttotal: 404ms\tremaining: 478ms\n",
            "458:\tlearn: 0.0376800\ttotal: 404ms\tremaining: 477ms\n",
            "459:\tlearn: 0.0376322\ttotal: 405ms\tremaining: 476ms\n",
            "460:\tlearn: 0.0375565\ttotal: 406ms\tremaining: 475ms\n",
            "461:\tlearn: 0.0374347\ttotal: 407ms\tremaining: 474ms\n",
            "462:\tlearn: 0.0373800\ttotal: 407ms\tremaining: 472ms\n",
            "463:\tlearn: 0.0372994\ttotal: 408ms\tremaining: 471ms\n",
            "464:\tlearn: 0.0372441\ttotal: 409ms\tremaining: 470ms\n",
            "465:\tlearn: 0.0372055\ttotal: 409ms\tremaining: 469ms\n",
            "466:\tlearn: 0.0371035\ttotal: 410ms\tremaining: 468ms\n",
            "467:\tlearn: 0.0370079\ttotal: 411ms\tremaining: 467ms\n",
            "468:\tlearn: 0.0368982\ttotal: 412ms\tremaining: 466ms\n",
            "469:\tlearn: 0.0368344\ttotal: 412ms\tremaining: 465ms\n",
            "470:\tlearn: 0.0367659\ttotal: 413ms\tremaining: 464ms\n",
            "471:\tlearn: 0.0366933\ttotal: 414ms\tremaining: 463ms\n",
            "472:\tlearn: 0.0366380\ttotal: 415ms\tremaining: 462ms\n",
            "473:\tlearn: 0.0365720\ttotal: 415ms\tremaining: 461ms\n",
            "474:\tlearn: 0.0365153\ttotal: 416ms\tremaining: 460ms\n",
            "475:\tlearn: 0.0364773\ttotal: 417ms\tremaining: 459ms\n",
            "476:\tlearn: 0.0364350\ttotal: 417ms\tremaining: 458ms\n",
            "477:\tlearn: 0.0363433\ttotal: 418ms\tremaining: 457ms\n",
            "478:\tlearn: 0.0362220\ttotal: 419ms\tremaining: 456ms\n",
            "479:\tlearn: 0.0361616\ttotal: 420ms\tremaining: 455ms\n",
            "480:\tlearn: 0.0360978\ttotal: 421ms\tremaining: 454ms\n",
            "481:\tlearn: 0.0359806\ttotal: 421ms\tremaining: 453ms\n",
            "482:\tlearn: 0.0358896\ttotal: 422ms\tremaining: 452ms\n",
            "483:\tlearn: 0.0358196\ttotal: 423ms\tremaining: 451ms\n",
            "484:\tlearn: 0.0357810\ttotal: 424ms\tremaining: 450ms\n",
            "485:\tlearn: 0.0356851\ttotal: 424ms\tremaining: 449ms\n",
            "486:\tlearn: 0.0356472\ttotal: 425ms\tremaining: 448ms\n",
            "487:\tlearn: 0.0355196\ttotal: 426ms\tremaining: 447ms\n",
            "488:\tlearn: 0.0353648\ttotal: 426ms\tremaining: 446ms\n",
            "489:\tlearn: 0.0353065\ttotal: 427ms\tremaining: 445ms\n",
            "490:\tlearn: 0.0352196\ttotal: 428ms\tremaining: 444ms\n",
            "491:\tlearn: 0.0351558\ttotal: 429ms\tremaining: 443ms\n",
            "492:\tlearn: 0.0351118\ttotal: 429ms\tremaining: 441ms\n",
            "493:\tlearn: 0.0350362\ttotal: 430ms\tremaining: 440ms\n",
            "494:\tlearn: 0.0349668\ttotal: 431ms\tremaining: 439ms\n",
            "495:\tlearn: 0.0348873\ttotal: 431ms\tremaining: 438ms\n",
            "496:\tlearn: 0.0348366\ttotal: 432ms\tremaining: 437ms\n",
            "497:\tlearn: 0.0347756\ttotal: 433ms\tremaining: 436ms\n",
            "498:\tlearn: 0.0346991\ttotal: 434ms\tremaining: 435ms\n",
            "499:\tlearn: 0.0346192\ttotal: 434ms\tremaining: 434ms\n",
            "500:\tlearn: 0.0345545\ttotal: 435ms\tremaining: 433ms\n",
            "501:\tlearn: 0.0345047\ttotal: 436ms\tremaining: 432ms\n",
            "502:\tlearn: 0.0344111\ttotal: 436ms\tremaining: 431ms\n",
            "503:\tlearn: 0.0342722\ttotal: 437ms\tremaining: 430ms\n",
            "504:\tlearn: 0.0342473\ttotal: 438ms\tremaining: 429ms\n",
            "505:\tlearn: 0.0341816\ttotal: 439ms\tremaining: 428ms\n",
            "506:\tlearn: 0.0340476\ttotal: 439ms\tremaining: 427ms\n",
            "507:\tlearn: 0.0339865\ttotal: 440ms\tremaining: 426ms\n",
            "508:\tlearn: 0.0339464\ttotal: 441ms\tremaining: 425ms\n",
            "509:\tlearn: 0.0338668\ttotal: 442ms\tremaining: 424ms\n",
            "510:\tlearn: 0.0337793\ttotal: 442ms\tremaining: 423ms\n",
            "511:\tlearn: 0.0337235\ttotal: 443ms\tremaining: 422ms\n",
            "512:\tlearn: 0.0335928\ttotal: 444ms\tremaining: 421ms\n",
            "513:\tlearn: 0.0335400\ttotal: 445ms\tremaining: 420ms\n",
            "514:\tlearn: 0.0334867\ttotal: 445ms\tremaining: 419ms\n",
            "515:\tlearn: 0.0334182\ttotal: 446ms\tremaining: 419ms\n",
            "516:\tlearn: 0.0333901\ttotal: 447ms\tremaining: 417ms\n",
            "517:\tlearn: 0.0333326\ttotal: 448ms\tremaining: 416ms\n",
            "518:\tlearn: 0.0332413\ttotal: 448ms\tremaining: 416ms\n",
            "519:\tlearn: 0.0331397\ttotal: 449ms\tremaining: 415ms\n",
            "520:\tlearn: 0.0330974\ttotal: 450ms\tremaining: 414ms\n",
            "521:\tlearn: 0.0330556\ttotal: 451ms\tremaining: 413ms\n",
            "522:\tlearn: 0.0329762\ttotal: 451ms\tremaining: 412ms\n",
            "523:\tlearn: 0.0328777\ttotal: 452ms\tremaining: 411ms\n",
            "524:\tlearn: 0.0328490\ttotal: 453ms\tremaining: 410ms\n",
            "525:\tlearn: 0.0327877\ttotal: 454ms\tremaining: 409ms\n",
            "526:\tlearn: 0.0327374\ttotal: 454ms\tremaining: 408ms\n",
            "527:\tlearn: 0.0326784\ttotal: 455ms\tremaining: 407ms\n",
            "528:\tlearn: 0.0325793\ttotal: 456ms\tremaining: 406ms\n",
            "529:\tlearn: 0.0324804\ttotal: 457ms\tremaining: 405ms\n",
            "530:\tlearn: 0.0324118\ttotal: 457ms\tremaining: 404ms\n",
            "531:\tlearn: 0.0323068\ttotal: 458ms\tremaining: 403ms\n",
            "532:\tlearn: 0.0322172\ttotal: 459ms\tremaining: 402ms\n",
            "533:\tlearn: 0.0321691\ttotal: 460ms\tremaining: 401ms\n",
            "534:\tlearn: 0.0321292\ttotal: 460ms\tremaining: 400ms\n",
            "535:\tlearn: 0.0320762\ttotal: 461ms\tremaining: 399ms\n",
            "536:\tlearn: 0.0320202\ttotal: 462ms\tremaining: 398ms\n",
            "537:\tlearn: 0.0319360\ttotal: 463ms\tremaining: 397ms\n",
            "538:\tlearn: 0.0318776\ttotal: 463ms\tremaining: 396ms\n",
            "539:\tlearn: 0.0318076\ttotal: 464ms\tremaining: 395ms\n",
            "540:\tlearn: 0.0317881\ttotal: 465ms\tremaining: 394ms\n",
            "541:\tlearn: 0.0317204\ttotal: 465ms\tremaining: 393ms\n",
            "542:\tlearn: 0.0316665\ttotal: 466ms\tremaining: 393ms\n",
            "543:\tlearn: 0.0316133\ttotal: 467ms\tremaining: 392ms\n",
            "544:\tlearn: 0.0315513\ttotal: 468ms\tremaining: 391ms\n",
            "545:\tlearn: 0.0314888\ttotal: 469ms\tremaining: 390ms\n",
            "546:\tlearn: 0.0314454\ttotal: 470ms\tremaining: 389ms\n",
            "547:\tlearn: 0.0313932\ttotal: 471ms\tremaining: 389ms\n",
            "548:\tlearn: 0.0313213\ttotal: 472ms\tremaining: 388ms\n",
            "549:\tlearn: 0.0312639\ttotal: 473ms\tremaining: 387ms\n",
            "550:\tlearn: 0.0312134\ttotal: 474ms\tremaining: 386ms\n",
            "551:\tlearn: 0.0311309\ttotal: 475ms\tremaining: 385ms\n",
            "552:\tlearn: 0.0310041\ttotal: 476ms\tremaining: 385ms\n",
            "553:\tlearn: 0.0309367\ttotal: 477ms\tremaining: 384ms\n",
            "554:\tlearn: 0.0308785\ttotal: 478ms\tremaining: 383ms\n",
            "555:\tlearn: 0.0308199\ttotal: 479ms\tremaining: 382ms\n",
            "556:\tlearn: 0.0307377\ttotal: 479ms\tremaining: 381ms\n",
            "557:\tlearn: 0.0306408\ttotal: 480ms\tremaining: 380ms\n",
            "558:\tlearn: 0.0305929\ttotal: 481ms\tremaining: 379ms\n",
            "559:\tlearn: 0.0304909\ttotal: 481ms\tremaining: 378ms\n",
            "560:\tlearn: 0.0304213\ttotal: 482ms\tremaining: 377ms\n",
            "561:\tlearn: 0.0303709\ttotal: 483ms\tremaining: 376ms\n",
            "562:\tlearn: 0.0302771\ttotal: 484ms\tremaining: 376ms\n",
            "563:\tlearn: 0.0302290\ttotal: 485ms\tremaining: 375ms\n",
            "564:\tlearn: 0.0301517\ttotal: 485ms\tremaining: 374ms\n",
            "565:\tlearn: 0.0301103\ttotal: 486ms\tremaining: 373ms\n",
            "566:\tlearn: 0.0300476\ttotal: 487ms\tremaining: 372ms\n",
            "567:\tlearn: 0.0300105\ttotal: 488ms\tremaining: 371ms\n",
            "568:\tlearn: 0.0299867\ttotal: 489ms\tremaining: 370ms\n",
            "569:\tlearn: 0.0299027\ttotal: 489ms\tremaining: 369ms\n",
            "570:\tlearn: 0.0298458\ttotal: 490ms\tremaining: 368ms\n",
            "571:\tlearn: 0.0297973\ttotal: 491ms\tremaining: 367ms\n",
            "572:\tlearn: 0.0297148\ttotal: 492ms\tremaining: 366ms\n",
            "573:\tlearn: 0.0296669\ttotal: 493ms\tremaining: 366ms\n",
            "574:\tlearn: 0.0296014\ttotal: 493ms\tremaining: 365ms\n",
            "575:\tlearn: 0.0295291\ttotal: 494ms\tremaining: 364ms\n",
            "576:\tlearn: 0.0294817\ttotal: 495ms\tremaining: 363ms\n",
            "577:\tlearn: 0.0294131\ttotal: 496ms\tremaining: 362ms\n",
            "578:\tlearn: 0.0292899\ttotal: 496ms\tremaining: 361ms\n",
            "579:\tlearn: 0.0291788\ttotal: 497ms\tremaining: 360ms\n",
            "580:\tlearn: 0.0291039\ttotal: 498ms\tremaining: 359ms\n",
            "581:\tlearn: 0.0290517\ttotal: 499ms\tremaining: 358ms\n",
            "582:\tlearn: 0.0289750\ttotal: 499ms\tremaining: 357ms\n",
            "583:\tlearn: 0.0289186\ttotal: 500ms\tremaining: 356ms\n",
            "584:\tlearn: 0.0288863\ttotal: 501ms\tremaining: 355ms\n",
            "585:\tlearn: 0.0288462\ttotal: 501ms\tremaining: 354ms\n",
            "586:\tlearn: 0.0288148\ttotal: 502ms\tremaining: 353ms\n",
            "587:\tlearn: 0.0287504\ttotal: 503ms\tremaining: 352ms\n",
            "588:\tlearn: 0.0287111\ttotal: 504ms\tremaining: 351ms\n",
            "589:\tlearn: 0.0286567\ttotal: 504ms\tremaining: 350ms\n",
            "590:\tlearn: 0.0286010\ttotal: 505ms\tremaining: 350ms\n",
            "591:\tlearn: 0.0285231\ttotal: 506ms\tremaining: 349ms\n",
            "592:\tlearn: 0.0284738\ttotal: 506ms\tremaining: 348ms\n",
            "593:\tlearn: 0.0284335\ttotal: 507ms\tremaining: 347ms\n",
            "594:\tlearn: 0.0283582\ttotal: 508ms\tremaining: 346ms\n",
            "595:\tlearn: 0.0282687\ttotal: 509ms\tremaining: 345ms\n",
            "596:\tlearn: 0.0282273\ttotal: 509ms\tremaining: 344ms\n",
            "597:\tlearn: 0.0281598\ttotal: 510ms\tremaining: 343ms\n",
            "598:\tlearn: 0.0280876\ttotal: 511ms\tremaining: 342ms\n",
            "599:\tlearn: 0.0280492\ttotal: 512ms\tremaining: 341ms\n",
            "600:\tlearn: 0.0279984\ttotal: 512ms\tremaining: 340ms\n",
            "601:\tlearn: 0.0279477\ttotal: 513ms\tremaining: 339ms\n",
            "602:\tlearn: 0.0279054\ttotal: 514ms\tremaining: 338ms\n",
            "603:\tlearn: 0.0278527\ttotal: 514ms\tremaining: 337ms\n",
            "604:\tlearn: 0.0278079\ttotal: 515ms\tremaining: 336ms\n",
            "605:\tlearn: 0.0277425\ttotal: 516ms\tremaining: 335ms\n",
            "606:\tlearn: 0.0276416\ttotal: 517ms\tremaining: 334ms\n",
            "607:\tlearn: 0.0276244\ttotal: 517ms\tremaining: 334ms\n",
            "608:\tlearn: 0.0275183\ttotal: 518ms\tremaining: 333ms\n",
            "609:\tlearn: 0.0274672\ttotal: 519ms\tremaining: 332ms\n",
            "610:\tlearn: 0.0274060\ttotal: 520ms\tremaining: 331ms\n",
            "611:\tlearn: 0.0273584\ttotal: 520ms\tremaining: 330ms\n",
            "612:\tlearn: 0.0273358\ttotal: 521ms\tremaining: 329ms\n",
            "613:\tlearn: 0.0272790\ttotal: 522ms\tremaining: 328ms\n",
            "614:\tlearn: 0.0272444\ttotal: 522ms\tremaining: 327ms\n",
            "615:\tlearn: 0.0272187\ttotal: 523ms\tremaining: 326ms\n",
            "616:\tlearn: 0.0271558\ttotal: 524ms\tremaining: 325ms\n",
            "617:\tlearn: 0.0270657\ttotal: 525ms\tremaining: 324ms\n",
            "618:\tlearn: 0.0270158\ttotal: 525ms\tremaining: 323ms\n",
            "619:\tlearn: 0.0269602\ttotal: 526ms\tremaining: 322ms\n",
            "620:\tlearn: 0.0268952\ttotal: 527ms\tremaining: 321ms\n",
            "621:\tlearn: 0.0268501\ttotal: 527ms\tremaining: 321ms\n",
            "622:\tlearn: 0.0268152\ttotal: 528ms\tremaining: 320ms\n",
            "623:\tlearn: 0.0267836\ttotal: 529ms\tremaining: 319ms\n",
            "624:\tlearn: 0.0267549\ttotal: 530ms\tremaining: 318ms\n",
            "625:\tlearn: 0.0267059\ttotal: 530ms\tremaining: 317ms\n",
            "626:\tlearn: 0.0266350\ttotal: 531ms\tremaining: 316ms\n",
            "627:\tlearn: 0.0265985\ttotal: 532ms\tremaining: 315ms\n",
            "628:\tlearn: 0.0265570\ttotal: 533ms\tremaining: 314ms\n",
            "629:\tlearn: 0.0265045\ttotal: 533ms\tremaining: 313ms\n",
            "630:\tlearn: 0.0264588\ttotal: 534ms\tremaining: 312ms\n",
            "631:\tlearn: 0.0264368\ttotal: 535ms\tremaining: 311ms\n",
            "632:\tlearn: 0.0263958\ttotal: 535ms\tremaining: 310ms\n",
            "633:\tlearn: 0.0263436\ttotal: 536ms\tremaining: 310ms\n",
            "634:\tlearn: 0.0262764\ttotal: 537ms\tremaining: 309ms\n",
            "635:\tlearn: 0.0262419\ttotal: 538ms\tremaining: 308ms\n",
            "636:\tlearn: 0.0262007\ttotal: 538ms\tremaining: 307ms\n",
            "637:\tlearn: 0.0261626\ttotal: 539ms\tremaining: 306ms\n",
            "638:\tlearn: 0.0261250\ttotal: 540ms\tremaining: 305ms\n",
            "639:\tlearn: 0.0260846\ttotal: 540ms\tremaining: 304ms\n",
            "640:\tlearn: 0.0260313\ttotal: 541ms\tremaining: 303ms\n",
            "641:\tlearn: 0.0259681\ttotal: 543ms\tremaining: 303ms\n",
            "642:\tlearn: 0.0258917\ttotal: 544ms\tremaining: 302ms\n",
            "643:\tlearn: 0.0258510\ttotal: 544ms\tremaining: 301ms\n",
            "644:\tlearn: 0.0258141\ttotal: 546ms\tremaining: 300ms\n",
            "645:\tlearn: 0.0257695\ttotal: 547ms\tremaining: 300ms\n",
            "646:\tlearn: 0.0257181\ttotal: 548ms\tremaining: 299ms\n",
            "647:\tlearn: 0.0256781\ttotal: 549ms\tremaining: 298ms\n",
            "648:\tlearn: 0.0256194\ttotal: 550ms\tremaining: 297ms\n",
            "649:\tlearn: 0.0255728\ttotal: 551ms\tremaining: 297ms\n",
            "650:\tlearn: 0.0255161\ttotal: 552ms\tremaining: 296ms\n",
            "651:\tlearn: 0.0254652\ttotal: 552ms\tremaining: 295ms\n",
            "652:\tlearn: 0.0254216\ttotal: 553ms\tremaining: 294ms\n",
            "653:\tlearn: 0.0253668\ttotal: 554ms\tremaining: 293ms\n",
            "654:\tlearn: 0.0253161\ttotal: 554ms\tremaining: 292ms\n",
            "655:\tlearn: 0.0252551\ttotal: 555ms\tremaining: 291ms\n",
            "656:\tlearn: 0.0252196\ttotal: 556ms\tremaining: 290ms\n",
            "657:\tlearn: 0.0251693\ttotal: 557ms\tremaining: 289ms\n",
            "658:\tlearn: 0.0251148\ttotal: 557ms\tremaining: 288ms\n",
            "659:\tlearn: 0.0250563\ttotal: 558ms\tremaining: 287ms\n",
            "660:\tlearn: 0.0250412\ttotal: 559ms\tremaining: 287ms\n",
            "661:\tlearn: 0.0250151\ttotal: 559ms\tremaining: 286ms\n",
            "662:\tlearn: 0.0249543\ttotal: 560ms\tremaining: 285ms\n",
            "663:\tlearn: 0.0249403\ttotal: 561ms\tremaining: 284ms\n",
            "664:\tlearn: 0.0248633\ttotal: 561ms\tremaining: 283ms\n",
            "665:\tlearn: 0.0248192\ttotal: 562ms\tremaining: 282ms\n",
            "666:\tlearn: 0.0247532\ttotal: 563ms\tremaining: 281ms\n",
            "667:\tlearn: 0.0247234\ttotal: 564ms\tremaining: 280ms\n",
            "668:\tlearn: 0.0247019\ttotal: 564ms\tremaining: 279ms\n",
            "669:\tlearn: 0.0246780\ttotal: 565ms\tremaining: 278ms\n",
            "670:\tlearn: 0.0246275\ttotal: 566ms\tremaining: 277ms\n",
            "671:\tlearn: 0.0246044\ttotal: 566ms\tremaining: 276ms\n",
            "672:\tlearn: 0.0245441\ttotal: 567ms\tremaining: 276ms\n",
            "673:\tlearn: 0.0244657\ttotal: 568ms\tremaining: 275ms\n",
            "674:\tlearn: 0.0244280\ttotal: 569ms\tremaining: 274ms\n",
            "675:\tlearn: 0.0243656\ttotal: 570ms\tremaining: 273ms\n",
            "676:\tlearn: 0.0243019\ttotal: 570ms\tremaining: 272ms\n",
            "677:\tlearn: 0.0242795\ttotal: 571ms\tremaining: 271ms\n",
            "678:\tlearn: 0.0242431\ttotal: 572ms\tremaining: 270ms\n",
            "679:\tlearn: 0.0242100\ttotal: 572ms\tremaining: 269ms\n",
            "680:\tlearn: 0.0241772\ttotal: 573ms\tremaining: 269ms\n",
            "681:\tlearn: 0.0241400\ttotal: 574ms\tremaining: 268ms\n",
            "682:\tlearn: 0.0240912\ttotal: 575ms\tremaining: 267ms\n",
            "683:\tlearn: 0.0240480\ttotal: 575ms\tremaining: 266ms\n",
            "684:\tlearn: 0.0240152\ttotal: 576ms\tremaining: 265ms\n",
            "685:\tlearn: 0.0239992\ttotal: 577ms\tremaining: 264ms\n",
            "686:\tlearn: 0.0239507\ttotal: 577ms\tremaining: 263ms\n",
            "687:\tlearn: 0.0238933\ttotal: 578ms\tremaining: 262ms\n",
            "688:\tlearn: 0.0238179\ttotal: 579ms\tremaining: 261ms\n",
            "689:\tlearn: 0.0237859\ttotal: 580ms\tremaining: 261ms\n",
            "690:\tlearn: 0.0237510\ttotal: 581ms\tremaining: 260ms\n",
            "691:\tlearn: 0.0237186\ttotal: 582ms\tremaining: 259ms\n",
            "692:\tlearn: 0.0236712\ttotal: 582ms\tremaining: 258ms\n",
            "693:\tlearn: 0.0236178\ttotal: 583ms\tremaining: 257ms\n",
            "694:\tlearn: 0.0236042\ttotal: 584ms\tremaining: 256ms\n",
            "695:\tlearn: 0.0235760\ttotal: 584ms\tremaining: 255ms\n",
            "696:\tlearn: 0.0235363\ttotal: 585ms\tremaining: 254ms\n",
            "697:\tlearn: 0.0234643\ttotal: 586ms\tremaining: 253ms\n",
            "698:\tlearn: 0.0234354\ttotal: 587ms\tremaining: 253ms\n",
            "699:\tlearn: 0.0234055\ttotal: 587ms\tremaining: 252ms\n",
            "700:\tlearn: 0.0233602\ttotal: 588ms\tremaining: 251ms\n",
            "701:\tlearn: 0.0233119\ttotal: 589ms\tremaining: 250ms\n",
            "702:\tlearn: 0.0232694\ttotal: 590ms\tremaining: 249ms\n",
            "703:\tlearn: 0.0232309\ttotal: 590ms\tremaining: 248ms\n",
            "704:\tlearn: 0.0232024\ttotal: 591ms\tremaining: 247ms\n",
            "705:\tlearn: 0.0231484\ttotal: 592ms\tremaining: 246ms\n",
            "706:\tlearn: 0.0230951\ttotal: 593ms\tremaining: 246ms\n",
            "707:\tlearn: 0.0230412\ttotal: 593ms\tremaining: 245ms\n",
            "708:\tlearn: 0.0230084\ttotal: 594ms\tremaining: 244ms\n",
            "709:\tlearn: 0.0229599\ttotal: 595ms\tremaining: 243ms\n",
            "710:\tlearn: 0.0229174\ttotal: 596ms\tremaining: 242ms\n",
            "711:\tlearn: 0.0228375\ttotal: 596ms\tremaining: 241ms\n",
            "712:\tlearn: 0.0227883\ttotal: 597ms\tremaining: 240ms\n",
            "713:\tlearn: 0.0227660\ttotal: 598ms\tremaining: 240ms\n",
            "714:\tlearn: 0.0227431\ttotal: 599ms\tremaining: 239ms\n",
            "715:\tlearn: 0.0227171\ttotal: 599ms\tremaining: 238ms\n",
            "716:\tlearn: 0.0226946\ttotal: 600ms\tremaining: 237ms\n",
            "717:\tlearn: 0.0226685\ttotal: 601ms\tremaining: 236ms\n",
            "718:\tlearn: 0.0226415\ttotal: 602ms\tremaining: 235ms\n",
            "719:\tlearn: 0.0226082\ttotal: 602ms\tremaining: 234ms\n",
            "720:\tlearn: 0.0225748\ttotal: 603ms\tremaining: 233ms\n",
            "721:\tlearn: 0.0225411\ttotal: 604ms\tremaining: 232ms\n",
            "722:\tlearn: 0.0224965\ttotal: 604ms\tremaining: 232ms\n",
            "723:\tlearn: 0.0224566\ttotal: 605ms\tremaining: 231ms\n",
            "724:\tlearn: 0.0224152\ttotal: 606ms\tremaining: 230ms\n",
            "725:\tlearn: 0.0223229\ttotal: 607ms\tremaining: 229ms\n",
            "726:\tlearn: 0.0222578\ttotal: 607ms\tremaining: 228ms\n",
            "727:\tlearn: 0.0222026\ttotal: 608ms\tremaining: 227ms\n",
            "728:\tlearn: 0.0221554\ttotal: 609ms\tremaining: 226ms\n",
            "729:\tlearn: 0.0221082\ttotal: 609ms\tremaining: 225ms\n",
            "730:\tlearn: 0.0220471\ttotal: 610ms\tremaining: 225ms\n",
            "731:\tlearn: 0.0220056\ttotal: 611ms\tremaining: 224ms\n",
            "732:\tlearn: 0.0219737\ttotal: 612ms\tremaining: 223ms\n",
            "733:\tlearn: 0.0218763\ttotal: 613ms\tremaining: 222ms\n",
            "734:\tlearn: 0.0218338\ttotal: 613ms\tremaining: 221ms\n",
            "735:\tlearn: 0.0218247\ttotal: 614ms\tremaining: 220ms\n",
            "736:\tlearn: 0.0217913\ttotal: 615ms\tremaining: 219ms\n",
            "737:\tlearn: 0.0217494\ttotal: 615ms\tremaining: 218ms\n",
            "738:\tlearn: 0.0217157\ttotal: 616ms\tremaining: 218ms\n",
            "739:\tlearn: 0.0216735\ttotal: 617ms\tremaining: 217ms\n",
            "740:\tlearn: 0.0216457\ttotal: 617ms\tremaining: 216ms\n",
            "741:\tlearn: 0.0215960\ttotal: 618ms\tremaining: 215ms\n",
            "742:\tlearn: 0.0215783\ttotal: 619ms\tremaining: 214ms\n",
            "743:\tlearn: 0.0215452\ttotal: 620ms\tremaining: 213ms\n",
            "744:\tlearn: 0.0215177\ttotal: 620ms\tremaining: 212ms\n",
            "745:\tlearn: 0.0214786\ttotal: 621ms\tremaining: 211ms\n",
            "746:\tlearn: 0.0214482\ttotal: 622ms\tremaining: 211ms\n",
            "747:\tlearn: 0.0214232\ttotal: 623ms\tremaining: 210ms\n",
            "748:\tlearn: 0.0213860\ttotal: 623ms\tremaining: 209ms\n",
            "749:\tlearn: 0.0213482\ttotal: 624ms\tremaining: 208ms\n",
            "750:\tlearn: 0.0212924\ttotal: 625ms\tremaining: 207ms\n",
            "751:\tlearn: 0.0212426\ttotal: 626ms\tremaining: 206ms\n",
            "752:\tlearn: 0.0212045\ttotal: 626ms\tremaining: 205ms\n",
            "753:\tlearn: 0.0211657\ttotal: 627ms\tremaining: 205ms\n",
            "754:\tlearn: 0.0211290\ttotal: 628ms\tremaining: 204ms\n",
            "755:\tlearn: 0.0211057\ttotal: 629ms\tremaining: 203ms\n",
            "756:\tlearn: 0.0210730\ttotal: 629ms\tremaining: 202ms\n",
            "757:\tlearn: 0.0210301\ttotal: 630ms\tremaining: 201ms\n",
            "758:\tlearn: 0.0209769\ttotal: 631ms\tremaining: 200ms\n",
            "759:\tlearn: 0.0209537\ttotal: 631ms\tremaining: 199ms\n",
            "760:\tlearn: 0.0208943\ttotal: 632ms\tremaining: 199ms\n",
            "761:\tlearn: 0.0208533\ttotal: 633ms\tremaining: 198ms\n",
            "762:\tlearn: 0.0208216\ttotal: 634ms\tremaining: 197ms\n",
            "763:\tlearn: 0.0207954\ttotal: 634ms\tremaining: 196ms\n",
            "764:\tlearn: 0.0207396\ttotal: 635ms\tremaining: 195ms\n",
            "765:\tlearn: 0.0207034\ttotal: 636ms\tremaining: 194ms\n",
            "766:\tlearn: 0.0206794\ttotal: 636ms\tremaining: 193ms\n",
            "767:\tlearn: 0.0206470\ttotal: 637ms\tremaining: 192ms\n",
            "768:\tlearn: 0.0205919\ttotal: 638ms\tremaining: 192ms\n",
            "769:\tlearn: 0.0205738\ttotal: 638ms\tremaining: 191ms\n",
            "770:\tlearn: 0.0205566\ttotal: 639ms\tremaining: 190ms\n",
            "771:\tlearn: 0.0205193\ttotal: 640ms\tremaining: 189ms\n",
            "772:\tlearn: 0.0204770\ttotal: 641ms\tremaining: 188ms\n",
            "773:\tlearn: 0.0204264\ttotal: 641ms\tremaining: 187ms\n",
            "774:\tlearn: 0.0203884\ttotal: 642ms\tremaining: 186ms\n",
            "775:\tlearn: 0.0203721\ttotal: 643ms\tremaining: 186ms\n",
            "776:\tlearn: 0.0203369\ttotal: 643ms\tremaining: 185ms\n",
            "777:\tlearn: 0.0203137\ttotal: 644ms\tremaining: 184ms\n",
            "778:\tlearn: 0.0202856\ttotal: 645ms\tremaining: 183ms\n",
            "779:\tlearn: 0.0202602\ttotal: 646ms\tremaining: 182ms\n",
            "780:\tlearn: 0.0201787\ttotal: 646ms\tremaining: 181ms\n",
            "781:\tlearn: 0.0201240\ttotal: 647ms\tremaining: 180ms\n",
            "782:\tlearn: 0.0201046\ttotal: 648ms\tremaining: 180ms\n",
            "783:\tlearn: 0.0200704\ttotal: 648ms\tremaining: 179ms\n",
            "784:\tlearn: 0.0200104\ttotal: 649ms\tremaining: 178ms\n",
            "785:\tlearn: 0.0199802\ttotal: 650ms\tremaining: 177ms\n",
            "786:\tlearn: 0.0199475\ttotal: 651ms\tremaining: 176ms\n",
            "787:\tlearn: 0.0198946\ttotal: 651ms\tremaining: 175ms\n",
            "788:\tlearn: 0.0198634\ttotal: 652ms\tremaining: 174ms\n",
            "789:\tlearn: 0.0198248\ttotal: 653ms\tremaining: 174ms\n",
            "790:\tlearn: 0.0197873\ttotal: 654ms\tremaining: 173ms\n",
            "791:\tlearn: 0.0197526\ttotal: 654ms\tremaining: 172ms\n",
            "792:\tlearn: 0.0197107\ttotal: 655ms\tremaining: 171ms\n",
            "793:\tlearn: 0.0196614\ttotal: 656ms\tremaining: 170ms\n",
            "794:\tlearn: 0.0196434\ttotal: 656ms\tremaining: 169ms\n",
            "795:\tlearn: 0.0195995\ttotal: 657ms\tremaining: 168ms\n",
            "796:\tlearn: 0.0195553\ttotal: 658ms\tremaining: 168ms\n",
            "797:\tlearn: 0.0195216\ttotal: 659ms\tremaining: 167ms\n",
            "798:\tlearn: 0.0194728\ttotal: 659ms\tremaining: 166ms\n",
            "799:\tlearn: 0.0194185\ttotal: 660ms\tremaining: 165ms\n",
            "800:\tlearn: 0.0193819\ttotal: 661ms\tremaining: 164ms\n",
            "801:\tlearn: 0.0193398\ttotal: 661ms\tremaining: 163ms\n",
            "802:\tlearn: 0.0193092\ttotal: 662ms\tremaining: 162ms\n",
            "803:\tlearn: 0.0192730\ttotal: 663ms\tremaining: 162ms\n",
            "804:\tlearn: 0.0192487\ttotal: 664ms\tremaining: 161ms\n",
            "805:\tlearn: 0.0192085\ttotal: 664ms\tremaining: 160ms\n",
            "806:\tlearn: 0.0191561\ttotal: 665ms\tremaining: 159ms\n",
            "807:\tlearn: 0.0191180\ttotal: 666ms\tremaining: 158ms\n",
            "808:\tlearn: 0.0190908\ttotal: 667ms\tremaining: 157ms\n",
            "809:\tlearn: 0.0190687\ttotal: 667ms\tremaining: 157ms\n",
            "810:\tlearn: 0.0190341\ttotal: 668ms\tremaining: 156ms\n",
            "811:\tlearn: 0.0190012\ttotal: 669ms\tremaining: 155ms\n",
            "812:\tlearn: 0.0189665\ttotal: 669ms\tremaining: 154ms\n",
            "813:\tlearn: 0.0189321\ttotal: 670ms\tremaining: 153ms\n",
            "814:\tlearn: 0.0189174\ttotal: 671ms\tremaining: 152ms\n",
            "815:\tlearn: 0.0188880\ttotal: 672ms\tremaining: 151ms\n",
            "816:\tlearn: 0.0188590\ttotal: 672ms\tremaining: 151ms\n",
            "817:\tlearn: 0.0188391\ttotal: 673ms\tremaining: 150ms\n",
            "818:\tlearn: 0.0187833\ttotal: 674ms\tremaining: 149ms\n",
            "819:\tlearn: 0.0187441\ttotal: 674ms\tremaining: 148ms\n",
            "820:\tlearn: 0.0187253\ttotal: 675ms\tremaining: 147ms\n",
            "821:\tlearn: 0.0186861\ttotal: 676ms\tremaining: 146ms\n",
            "822:\tlearn: 0.0186516\ttotal: 677ms\tremaining: 146ms\n",
            "823:\tlearn: 0.0186292\ttotal: 677ms\tremaining: 145ms\n",
            "824:\tlearn: 0.0185973\ttotal: 678ms\tremaining: 144ms\n",
            "825:\tlearn: 0.0185762\ttotal: 679ms\tremaining: 143ms\n",
            "826:\tlearn: 0.0185628\ttotal: 680ms\tremaining: 142ms\n",
            "827:\tlearn: 0.0185487\ttotal: 680ms\tremaining: 141ms\n",
            "828:\tlearn: 0.0185161\ttotal: 681ms\tremaining: 140ms\n",
            "829:\tlearn: 0.0184946\ttotal: 682ms\tremaining: 140ms\n",
            "830:\tlearn: 0.0184704\ttotal: 682ms\tremaining: 139ms\n",
            "831:\tlearn: 0.0184380\ttotal: 683ms\tremaining: 138ms\n",
            "832:\tlearn: 0.0184159\ttotal: 684ms\tremaining: 137ms\n",
            "833:\tlearn: 0.0183899\ttotal: 685ms\tremaining: 136ms\n",
            "834:\tlearn: 0.0183569\ttotal: 685ms\tremaining: 135ms\n",
            "835:\tlearn: 0.0183276\ttotal: 686ms\tremaining: 135ms\n",
            "836:\tlearn: 0.0182824\ttotal: 687ms\tremaining: 134ms\n",
            "837:\tlearn: 0.0182360\ttotal: 688ms\tremaining: 133ms\n",
            "838:\tlearn: 0.0182131\ttotal: 688ms\tremaining: 132ms\n",
            "839:\tlearn: 0.0181775\ttotal: 689ms\tremaining: 131ms\n",
            "840:\tlearn: 0.0181411\ttotal: 690ms\tremaining: 130ms\n",
            "841:\tlearn: 0.0181103\ttotal: 690ms\tremaining: 130ms\n",
            "842:\tlearn: 0.0180947\ttotal: 691ms\tremaining: 129ms\n",
            "843:\tlearn: 0.0180587\ttotal: 692ms\tremaining: 128ms\n",
            "844:\tlearn: 0.0180409\ttotal: 693ms\tremaining: 127ms\n",
            "845:\tlearn: 0.0180042\ttotal: 693ms\tremaining: 126ms\n",
            "846:\tlearn: 0.0179809\ttotal: 694ms\tremaining: 125ms\n",
            "847:\tlearn: 0.0179594\ttotal: 695ms\tremaining: 125ms\n",
            "848:\tlearn: 0.0179251\ttotal: 695ms\tremaining: 124ms\n",
            "849:\tlearn: 0.0178872\ttotal: 696ms\tremaining: 123ms\n",
            "850:\tlearn: 0.0178440\ttotal: 697ms\tremaining: 122ms\n",
            "851:\tlearn: 0.0178270\ttotal: 698ms\tremaining: 121ms\n",
            "852:\tlearn: 0.0178026\ttotal: 698ms\tremaining: 120ms\n",
            "853:\tlearn: 0.0177692\ttotal: 699ms\tremaining: 120ms\n",
            "854:\tlearn: 0.0177415\ttotal: 700ms\tremaining: 119ms\n",
            "855:\tlearn: 0.0177158\ttotal: 700ms\tremaining: 118ms\n",
            "856:\tlearn: 0.0176885\ttotal: 701ms\tremaining: 117ms\n",
            "857:\tlearn: 0.0176656\ttotal: 702ms\tremaining: 116ms\n",
            "858:\tlearn: 0.0176337\ttotal: 703ms\tremaining: 115ms\n",
            "859:\tlearn: 0.0176133\ttotal: 703ms\tremaining: 115ms\n",
            "860:\tlearn: 0.0175918\ttotal: 704ms\tremaining: 114ms\n",
            "861:\tlearn: 0.0175704\ttotal: 705ms\tremaining: 113ms\n",
            "862:\tlearn: 0.0175412\ttotal: 706ms\tremaining: 112ms\n",
            "863:\tlearn: 0.0175212\ttotal: 706ms\tremaining: 111ms\n",
            "864:\tlearn: 0.0174941\ttotal: 707ms\tremaining: 110ms\n",
            "865:\tlearn: 0.0174658\ttotal: 708ms\tremaining: 110ms\n",
            "866:\tlearn: 0.0174410\ttotal: 708ms\tremaining: 109ms\n",
            "867:\tlearn: 0.0174141\ttotal: 709ms\tremaining: 108ms\n",
            "868:\tlearn: 0.0173817\ttotal: 710ms\tremaining: 107ms\n",
            "869:\tlearn: 0.0173536\ttotal: 711ms\tremaining: 106ms\n",
            "870:\tlearn: 0.0173188\ttotal: 711ms\tremaining: 105ms\n",
            "871:\tlearn: 0.0172753\ttotal: 712ms\tremaining: 105ms\n",
            "872:\tlearn: 0.0172486\ttotal: 713ms\tremaining: 104ms\n",
            "873:\tlearn: 0.0172229\ttotal: 713ms\tremaining: 103ms\n",
            "874:\tlearn: 0.0172045\ttotal: 714ms\tremaining: 102ms\n",
            "875:\tlearn: 0.0171749\ttotal: 715ms\tremaining: 101ms\n",
            "876:\tlearn: 0.0171417\ttotal: 716ms\tremaining: 100ms\n",
            "877:\tlearn: 0.0171165\ttotal: 716ms\tremaining: 99.5ms\n",
            "878:\tlearn: 0.0170970\ttotal: 717ms\tremaining: 98.7ms\n",
            "879:\tlearn: 0.0170699\ttotal: 718ms\tremaining: 97.9ms\n",
            "880:\tlearn: 0.0170482\ttotal: 719ms\tremaining: 97.1ms\n",
            "881:\tlearn: 0.0170267\ttotal: 719ms\tremaining: 96.2ms\n",
            "882:\tlearn: 0.0170069\ttotal: 720ms\tremaining: 95.4ms\n"
          ],
          "name": "stdout"
        },
        {
          "output_type": "stream",
          "text": [
            "\r100%|██████████| 31/31 [00:02<00:00, 14.76it/s]"
          ],
          "name": "stderr"
        },
        {
          "output_type": "stream",
          "text": [
            "883:\tlearn: 0.0169741\ttotal: 722ms\tremaining: 94.7ms\n",
            "884:\tlearn: 0.0169483\ttotal: 722ms\tremaining: 93.9ms\n",
            "885:\tlearn: 0.0169305\ttotal: 723ms\tremaining: 93.1ms\n",
            "886:\tlearn: 0.0169116\ttotal: 725ms\tremaining: 92.3ms\n",
            "887:\tlearn: 0.0168648\ttotal: 726ms\tremaining: 91.5ms\n",
            "888:\tlearn: 0.0168373\ttotal: 727ms\tremaining: 90.7ms\n",
            "889:\tlearn: 0.0168147\ttotal: 728ms\tremaining: 89.9ms\n",
            "890:\tlearn: 0.0167759\ttotal: 729ms\tremaining: 89.2ms\n",
            "891:\tlearn: 0.0167519\ttotal: 730ms\tremaining: 88.3ms\n",
            "892:\tlearn: 0.0167269\ttotal: 730ms\tremaining: 87.5ms\n",
            "893:\tlearn: 0.0167005\ttotal: 731ms\tremaining: 86.7ms\n",
            "894:\tlearn: 0.0166870\ttotal: 732ms\tremaining: 85.9ms\n",
            "895:\tlearn: 0.0166561\ttotal: 733ms\tremaining: 85ms\n",
            "896:\tlearn: 0.0166302\ttotal: 733ms\tremaining: 84.2ms\n",
            "897:\tlearn: 0.0166116\ttotal: 734ms\tremaining: 83.4ms\n",
            "898:\tlearn: 0.0165889\ttotal: 735ms\tremaining: 82.5ms\n",
            "899:\tlearn: 0.0165760\ttotal: 735ms\tremaining: 81.7ms\n",
            "900:\tlearn: 0.0165453\ttotal: 736ms\tremaining: 80.9ms\n",
            "901:\tlearn: 0.0165299\ttotal: 737ms\tremaining: 80.1ms\n",
            "902:\tlearn: 0.0164929\ttotal: 738ms\tremaining: 79.2ms\n",
            "903:\tlearn: 0.0164684\ttotal: 738ms\tremaining: 78.4ms\n",
            "904:\tlearn: 0.0164498\ttotal: 739ms\tremaining: 77.6ms\n",
            "905:\tlearn: 0.0164305\ttotal: 740ms\tremaining: 76.8ms\n",
            "906:\tlearn: 0.0163865\ttotal: 741ms\tremaining: 75.9ms\n",
            "907:\tlearn: 0.0163591\ttotal: 741ms\tremaining: 75.1ms\n",
            "908:\tlearn: 0.0163437\ttotal: 742ms\tremaining: 74.3ms\n",
            "909:\tlearn: 0.0162940\ttotal: 743ms\tremaining: 73.5ms\n",
            "910:\tlearn: 0.0162684\ttotal: 743ms\tremaining: 72.6ms\n",
            "911:\tlearn: 0.0162460\ttotal: 744ms\tremaining: 71.8ms\n",
            "912:\tlearn: 0.0162183\ttotal: 745ms\tremaining: 71ms\n",
            "913:\tlearn: 0.0162011\ttotal: 746ms\tremaining: 70.2ms\n",
            "914:\tlearn: 0.0161774\ttotal: 746ms\tremaining: 69.3ms\n",
            "915:\tlearn: 0.0161626\ttotal: 747ms\tremaining: 68.5ms\n",
            "916:\tlearn: 0.0161369\ttotal: 748ms\tremaining: 67.7ms\n",
            "917:\tlearn: 0.0161143\ttotal: 749ms\tremaining: 66.9ms\n",
            "918:\tlearn: 0.0160828\ttotal: 749ms\tremaining: 66ms\n",
            "919:\tlearn: 0.0160704\ttotal: 750ms\tremaining: 65.2ms\n",
            "920:\tlearn: 0.0160398\ttotal: 751ms\tremaining: 64.4ms\n",
            "921:\tlearn: 0.0160138\ttotal: 752ms\tremaining: 63.6ms\n",
            "922:\tlearn: 0.0159656\ttotal: 752ms\tremaining: 62.8ms\n",
            "923:\tlearn: 0.0159423\ttotal: 753ms\tremaining: 61.9ms\n",
            "924:\tlearn: 0.0159222\ttotal: 754ms\tremaining: 61.1ms\n",
            "925:\tlearn: 0.0159057\ttotal: 754ms\tremaining: 60.3ms\n",
            "926:\tlearn: 0.0158960\ttotal: 755ms\tremaining: 59.5ms\n",
            "927:\tlearn: 0.0158779\ttotal: 756ms\tremaining: 58.6ms\n",
            "928:\tlearn: 0.0158587\ttotal: 757ms\tremaining: 57.8ms\n",
            "929:\tlearn: 0.0158330\ttotal: 757ms\tremaining: 57ms\n",
            "930:\tlearn: 0.0158060\ttotal: 758ms\tremaining: 56.2ms\n",
            "931:\tlearn: 0.0157647\ttotal: 759ms\tremaining: 55.4ms\n",
            "932:\tlearn: 0.0157476\ttotal: 759ms\tremaining: 54.5ms\n",
            "933:\tlearn: 0.0157296\ttotal: 760ms\tremaining: 53.7ms\n",
            "934:\tlearn: 0.0156860\ttotal: 761ms\tremaining: 52.9ms\n",
            "935:\tlearn: 0.0156676\ttotal: 762ms\tremaining: 52.1ms\n",
            "936:\tlearn: 0.0156543\ttotal: 762ms\tremaining: 51.3ms\n",
            "937:\tlearn: 0.0156264\ttotal: 763ms\tremaining: 50.4ms\n",
            "938:\tlearn: 0.0156084\ttotal: 764ms\tremaining: 49.6ms\n",
            "939:\tlearn: 0.0155731\ttotal: 764ms\tremaining: 48.8ms\n",
            "940:\tlearn: 0.0155348\ttotal: 765ms\tremaining: 48ms\n",
            "941:\tlearn: 0.0154974\ttotal: 766ms\tremaining: 47.2ms\n",
            "942:\tlearn: 0.0154680\ttotal: 767ms\tremaining: 46.3ms\n",
            "943:\tlearn: 0.0154511\ttotal: 767ms\tremaining: 45.5ms\n",
            "944:\tlearn: 0.0154269\ttotal: 768ms\tremaining: 44.7ms\n",
            "945:\tlearn: 0.0153943\ttotal: 769ms\tremaining: 43.9ms\n",
            "946:\tlearn: 0.0153746\ttotal: 769ms\tremaining: 43.1ms\n",
            "947:\tlearn: 0.0153503\ttotal: 770ms\tremaining: 42.2ms\n",
            "948:\tlearn: 0.0153324\ttotal: 771ms\tremaining: 41.4ms\n",
            "949:\tlearn: 0.0153108\ttotal: 772ms\tremaining: 40.6ms\n",
            "950:\tlearn: 0.0152917\ttotal: 772ms\tremaining: 39.8ms\n",
            "951:\tlearn: 0.0152688\ttotal: 773ms\tremaining: 39ms\n",
            "952:\tlearn: 0.0152515\ttotal: 774ms\tremaining: 38.2ms\n",
            "953:\tlearn: 0.0152264\ttotal: 775ms\tremaining: 37.3ms\n",
            "954:\tlearn: 0.0152151\ttotal: 775ms\tremaining: 36.5ms\n",
            "955:\tlearn: 0.0151938\ttotal: 776ms\tremaining: 35.7ms\n",
            "956:\tlearn: 0.0151695\ttotal: 777ms\tremaining: 34.9ms\n",
            "957:\tlearn: 0.0151459\ttotal: 777ms\tremaining: 34.1ms\n",
            "958:\tlearn: 0.0151247\ttotal: 778ms\tremaining: 33.3ms\n",
            "959:\tlearn: 0.0151039\ttotal: 779ms\tremaining: 32.4ms\n",
            "960:\tlearn: 0.0150708\ttotal: 780ms\tremaining: 31.6ms\n",
            "961:\tlearn: 0.0150452\ttotal: 780ms\tremaining: 30.8ms\n",
            "962:\tlearn: 0.0150251\ttotal: 781ms\tremaining: 30ms\n",
            "963:\tlearn: 0.0150121\ttotal: 782ms\tremaining: 29.2ms\n",
            "964:\tlearn: 0.0149856\ttotal: 782ms\tremaining: 28.4ms\n",
            "965:\tlearn: 0.0149661\ttotal: 783ms\tremaining: 27.6ms\n",
            "966:\tlearn: 0.0149458\ttotal: 784ms\tremaining: 26.8ms\n",
            "967:\tlearn: 0.0149234\ttotal: 785ms\tremaining: 25.9ms\n",
            "968:\tlearn: 0.0148950\ttotal: 786ms\tremaining: 25.1ms\n",
            "969:\tlearn: 0.0148760\ttotal: 786ms\tremaining: 24.3ms\n",
            "970:\tlearn: 0.0148535\ttotal: 787ms\tremaining: 23.5ms\n",
            "971:\tlearn: 0.0148317\ttotal: 788ms\tremaining: 22.7ms\n",
            "972:\tlearn: 0.0147877\ttotal: 789ms\tremaining: 21.9ms\n",
            "973:\tlearn: 0.0147709\ttotal: 789ms\tremaining: 21.1ms\n",
            "974:\tlearn: 0.0147499\ttotal: 790ms\tremaining: 20.3ms\n",
            "975:\tlearn: 0.0147331\ttotal: 791ms\tremaining: 19.4ms\n",
            "976:\tlearn: 0.0147145\ttotal: 791ms\tremaining: 18.6ms\n",
            "977:\tlearn: 0.0146860\ttotal: 792ms\tremaining: 17.8ms\n",
            "978:\tlearn: 0.0146591\ttotal: 793ms\tremaining: 17ms\n",
            "979:\tlearn: 0.0146309\ttotal: 794ms\tremaining: 16.2ms\n",
            "980:\tlearn: 0.0145947\ttotal: 794ms\tremaining: 15.4ms\n",
            "981:\tlearn: 0.0145618\ttotal: 795ms\tremaining: 14.6ms\n",
            "982:\tlearn: 0.0145498\ttotal: 796ms\tremaining: 13.8ms\n",
            "983:\tlearn: 0.0145364\ttotal: 797ms\tremaining: 13ms\n",
            "984:\tlearn: 0.0145163\ttotal: 798ms\tremaining: 12.2ms\n",
            "985:\tlearn: 0.0144717\ttotal: 799ms\tremaining: 11.3ms\n",
            "986:\tlearn: 0.0144407\ttotal: 799ms\tremaining: 10.5ms\n",
            "987:\tlearn: 0.0144203\ttotal: 800ms\tremaining: 9.72ms\n",
            "988:\tlearn: 0.0143957\ttotal: 801ms\tremaining: 8.91ms\n",
            "989:\tlearn: 0.0143767\ttotal: 802ms\tremaining: 8.1ms\n",
            "990:\tlearn: 0.0143565\ttotal: 802ms\tremaining: 7.29ms\n",
            "991:\tlearn: 0.0143257\ttotal: 803ms\tremaining: 6.48ms\n",
            "992:\tlearn: 0.0143054\ttotal: 804ms\tremaining: 5.67ms\n",
            "993:\tlearn: 0.0142816\ttotal: 805ms\tremaining: 4.86ms\n",
            "994:\tlearn: 0.0142670\ttotal: 805ms\tremaining: 4.05ms\n",
            "995:\tlearn: 0.0142495\ttotal: 806ms\tremaining: 3.24ms\n",
            "996:\tlearn: 0.0142348\ttotal: 807ms\tremaining: 2.43ms\n",
            "997:\tlearn: 0.0142132\ttotal: 808ms\tremaining: 1.62ms\n",
            "998:\tlearn: 0.0141703\ttotal: 808ms\tremaining: 809us\n",
            "999:\tlearn: 0.0141513\ttotal: 809ms\tremaining: 0us\n"
          ],
          "name": "stdout"
        },
        {
          "output_type": "stream",
          "text": [
            "\n"
          ],
          "name": "stderr"
        },
        {
          "output_type": "execute_result",
          "data": {
            "text/html": [
              "<div>\n",
              "<style scoped>\n",
              "    .dataframe tbody tr th:only-of-type {\n",
              "        vertical-align: middle;\n",
              "    }\n",
              "\n",
              "    .dataframe tbody tr th {\n",
              "        vertical-align: top;\n",
              "    }\n",
              "\n",
              "    .dataframe thead th {\n",
              "        text-align: right;\n",
              "    }\n",
              "</style>\n",
              "<table border=\"1\" class=\"dataframe\">\n",
              "  <thead>\n",
              "    <tr style=\"text-align: right;\">\n",
              "      <th></th>\n",
              "      <th>Accuracy</th>\n",
              "      <th>Balanced Accuracy</th>\n",
              "      <th>ROC AUC</th>\n",
              "      <th>F1 Score</th>\n",
              "      <th>Time Taken</th>\n",
              "    </tr>\n",
              "    <tr>\n",
              "      <th>Model</th>\n",
              "      <th></th>\n",
              "      <th></th>\n",
              "      <th></th>\n",
              "      <th></th>\n",
              "      <th></th>\n",
              "    </tr>\n",
              "  </thead>\n",
              "  <tbody>\n",
              "    <tr>\n",
              "      <th>CatBoostClassifier</th>\n",
              "      <td>0.98</td>\n",
              "      <td>0.98</td>\n",
              "      <td>0.98</td>\n",
              "      <td>0.98</td>\n",
              "      <td>0.98</td>\n",
              "    </tr>\n",
              "    <tr>\n",
              "      <th>SVC</th>\n",
              "      <td>0.98</td>\n",
              "      <td>0.98</td>\n",
              "      <td>0.98</td>\n",
              "      <td>0.98</td>\n",
              "      <td>0.01</td>\n",
              "    </tr>\n",
              "    <tr>\n",
              "      <th>KNeighborsClassifier</th>\n",
              "      <td>0.98</td>\n",
              "      <td>0.98</td>\n",
              "      <td>0.98</td>\n",
              "      <td>0.98</td>\n",
              "      <td>0.02</td>\n",
              "    </tr>\n",
              "    <tr>\n",
              "      <th>LinearSVC</th>\n",
              "      <td>0.98</td>\n",
              "      <td>0.98</td>\n",
              "      <td>0.98</td>\n",
              "      <td>0.98</td>\n",
              "      <td>0.02</td>\n",
              "    </tr>\n",
              "    <tr>\n",
              "      <th>BernoulliNB</th>\n",
              "      <td>0.98</td>\n",
              "      <td>0.98</td>\n",
              "      <td>0.98</td>\n",
              "      <td>0.98</td>\n",
              "      <td>0.02</td>\n",
              "    </tr>\n",
              "    <tr>\n",
              "      <th>GaussianNB</th>\n",
              "      <td>0.97</td>\n",
              "      <td>0.97</td>\n",
              "      <td>0.97</td>\n",
              "      <td>0.97</td>\n",
              "      <td>0.01</td>\n",
              "    </tr>\n",
              "    <tr>\n",
              "      <th>SGDClassifier</th>\n",
              "      <td>0.98</td>\n",
              "      <td>0.97</td>\n",
              "      <td>0.97</td>\n",
              "      <td>0.98</td>\n",
              "      <td>0.01</td>\n",
              "    </tr>\n",
              "    <tr>\n",
              "      <th>NuSVC</th>\n",
              "      <td>0.97</td>\n",
              "      <td>0.97</td>\n",
              "      <td>0.97</td>\n",
              "      <td>0.97</td>\n",
              "      <td>0.02</td>\n",
              "    </tr>\n",
              "    <tr>\n",
              "      <th>LGBMClassifier</th>\n",
              "      <td>0.98</td>\n",
              "      <td>0.97</td>\n",
              "      <td>0.97</td>\n",
              "      <td>0.98</td>\n",
              "      <td>0.06</td>\n",
              "    </tr>\n",
              "    <tr>\n",
              "      <th>RandomForestClassifier</th>\n",
              "      <td>0.97</td>\n",
              "      <td>0.97</td>\n",
              "      <td>0.97</td>\n",
              "      <td>0.97</td>\n",
              "      <td>0.16</td>\n",
              "    </tr>\n",
              "    <tr>\n",
              "      <th>PassiveAggressiveClassifier</th>\n",
              "      <td>0.97</td>\n",
              "      <td>0.97</td>\n",
              "      <td>0.97</td>\n",
              "      <td>0.97</td>\n",
              "      <td>0.01</td>\n",
              "    </tr>\n",
              "    <tr>\n",
              "      <th>ExtraTreesClassifier</th>\n",
              "      <td>0.97</td>\n",
              "      <td>0.96</td>\n",
              "      <td>0.96</td>\n",
              "      <td>0.97</td>\n",
              "      <td>0.13</td>\n",
              "    </tr>\n",
              "    <tr>\n",
              "      <th>BaggingClassifier</th>\n",
              "      <td>0.97</td>\n",
              "      <td>0.96</td>\n",
              "      <td>0.96</td>\n",
              "      <td>0.97</td>\n",
              "      <td>0.03</td>\n",
              "    </tr>\n",
              "    <tr>\n",
              "      <th>LogisticRegression</th>\n",
              "      <td>0.97</td>\n",
              "      <td>0.96</td>\n",
              "      <td>0.96</td>\n",
              "      <td>0.97</td>\n",
              "      <td>0.02</td>\n",
              "    </tr>\n",
              "    <tr>\n",
              "      <th>AdaBoostClassifier</th>\n",
              "      <td>0.97</td>\n",
              "      <td>0.96</td>\n",
              "      <td>0.96</td>\n",
              "      <td>0.97</td>\n",
              "      <td>0.10</td>\n",
              "    </tr>\n",
              "    <tr>\n",
              "      <th>QuadraticDiscriminantAnalysis</th>\n",
              "      <td>0.95</td>\n",
              "      <td>0.96</td>\n",
              "      <td>0.96</td>\n",
              "      <td>0.95</td>\n",
              "      <td>0.01</td>\n",
              "    </tr>\n",
              "    <tr>\n",
              "      <th>CalibratedClassifierCV</th>\n",
              "      <td>0.97</td>\n",
              "      <td>0.96</td>\n",
              "      <td>0.96</td>\n",
              "      <td>0.97</td>\n",
              "      <td>0.05</td>\n",
              "    </tr>\n",
              "    <tr>\n",
              "      <th>XGBClassifier</th>\n",
              "      <td>0.96</td>\n",
              "      <td>0.95</td>\n",
              "      <td>0.95</td>\n",
              "      <td>0.96</td>\n",
              "      <td>0.17</td>\n",
              "    </tr>\n",
              "    <tr>\n",
              "      <th>Perceptron</th>\n",
              "      <td>0.96</td>\n",
              "      <td>0.95</td>\n",
              "      <td>0.95</td>\n",
              "      <td>0.96</td>\n",
              "      <td>0.01</td>\n",
              "    </tr>\n",
              "    <tr>\n",
              "      <th>NearestCentroid</th>\n",
              "      <td>0.96</td>\n",
              "      <td>0.94</td>\n",
              "      <td>0.94</td>\n",
              "      <td>0.96</td>\n",
              "      <td>0.01</td>\n",
              "    </tr>\n",
              "    <tr>\n",
              "      <th>LabelSpreading</th>\n",
              "      <td>0.95</td>\n",
              "      <td>0.94</td>\n",
              "      <td>0.94</td>\n",
              "      <td>0.95</td>\n",
              "      <td>0.04</td>\n",
              "    </tr>\n",
              "    <tr>\n",
              "      <th>LabelPropagation</th>\n",
              "      <td>0.95</td>\n",
              "      <td>0.94</td>\n",
              "      <td>0.94</td>\n",
              "      <td>0.95</td>\n",
              "      <td>0.03</td>\n",
              "    </tr>\n",
              "    <tr>\n",
              "      <th>DecisionTreeClassifier</th>\n",
              "      <td>0.94</td>\n",
              "      <td>0.93</td>\n",
              "      <td>0.93</td>\n",
              "      <td>0.94</td>\n",
              "      <td>0.01</td>\n",
              "    </tr>\n",
              "    <tr>\n",
              "      <th>LinearDiscriminantAnalysis</th>\n",
              "      <td>0.95</td>\n",
              "      <td>0.93</td>\n",
              "      <td>0.93</td>\n",
              "      <td>0.95</td>\n",
              "      <td>0.05</td>\n",
              "    </tr>\n",
              "    <tr>\n",
              "      <th>RidgeClassifier</th>\n",
              "      <td>0.95</td>\n",
              "      <td>0.93</td>\n",
              "      <td>0.93</td>\n",
              "      <td>0.95</td>\n",
              "      <td>0.02</td>\n",
              "    </tr>\n",
              "    <tr>\n",
              "      <th>RidgeClassifierCV</th>\n",
              "      <td>0.95</td>\n",
              "      <td>0.93</td>\n",
              "      <td>0.93</td>\n",
              "      <td>0.95</td>\n",
              "      <td>0.01</td>\n",
              "    </tr>\n",
              "    <tr>\n",
              "      <th>ExtraTreeClassifier</th>\n",
              "      <td>0.94</td>\n",
              "      <td>0.92</td>\n",
              "      <td>0.92</td>\n",
              "      <td>0.94</td>\n",
              "      <td>0.01</td>\n",
              "    </tr>\n",
              "    <tr>\n",
              "      <th>CheckingClassifier</th>\n",
              "      <td>0.65</td>\n",
              "      <td>0.50</td>\n",
              "      <td>0.50</td>\n",
              "      <td>0.52</td>\n",
              "      <td>0.01</td>\n",
              "    </tr>\n",
              "    <tr>\n",
              "      <th>DummyClassifier</th>\n",
              "      <td>0.52</td>\n",
              "      <td>0.47</td>\n",
              "      <td>0.47</td>\n",
              "      <td>0.52</td>\n",
              "      <td>0.01</td>\n",
              "    </tr>\n",
              "  </tbody>\n",
              "</table>\n",
              "</div>"
            ],
            "text/plain": [
              "                               Accuracy  ...  Time Taken\n",
              "Model                                    ...            \n",
              "CatBoostClassifier                 0.98  ...        0.98\n",
              "SVC                                0.98  ...        0.01\n",
              "KNeighborsClassifier               0.98  ...        0.02\n",
              "LinearSVC                          0.98  ...        0.02\n",
              "BernoulliNB                        0.98  ...        0.02\n",
              "GaussianNB                         0.97  ...        0.01\n",
              "SGDClassifier                      0.98  ...        0.01\n",
              "NuSVC                              0.97  ...        0.02\n",
              "LGBMClassifier                     0.98  ...        0.06\n",
              "RandomForestClassifier             0.97  ...        0.16\n",
              "PassiveAggressiveClassifier        0.97  ...        0.01\n",
              "ExtraTreesClassifier               0.97  ...        0.13\n",
              "BaggingClassifier                  0.97  ...        0.03\n",
              "LogisticRegression                 0.97  ...        0.02\n",
              "AdaBoostClassifier                 0.97  ...        0.10\n",
              "QuadraticDiscriminantAnalysis      0.95  ...        0.01\n",
              "CalibratedClassifierCV             0.97  ...        0.05\n",
              "XGBClassifier                      0.96  ...        0.17\n",
              "Perceptron                         0.96  ...        0.01\n",
              "NearestCentroid                    0.96  ...        0.01\n",
              "LabelSpreading                     0.95  ...        0.04\n",
              "LabelPropagation                   0.95  ...        0.03\n",
              "DecisionTreeClassifier             0.94  ...        0.01\n",
              "LinearDiscriminantAnalysis         0.95  ...        0.05\n",
              "RidgeClassifier                    0.95  ...        0.02\n",
              "RidgeClassifierCV                  0.95  ...        0.01\n",
              "ExtraTreeClassifier                0.94  ...        0.01\n",
              "CheckingClassifier                 0.65  ...        0.01\n",
              "DummyClassifier                    0.52  ...        0.01\n",
              "\n",
              "[29 rows x 5 columns]"
            ]
          },
          "metadata": {
            "tags": []
          },
          "execution_count": 63
        }
      ]
    },
    {
      "cell_type": "code",
      "metadata": {
        "id": "jnYfNh7jQ5U1",
        "colab_type": "code",
        "colab": {
          "base_uri": "https://localhost:8080/",
          "height": 424
        },
        "outputId": "7961faae-dd8a-42c0-d1c8-99c6ded41504"
      },
      "source": [
        "print('Top 10 Performing Models')\n",
        "print('>>>'*10)\n",
        "models.head(10)"
      ],
      "execution_count": 76,
      "outputs": [
        {
          "output_type": "stream",
          "text": [
            "Top 10 Performing Models\n",
            ">>>>>>>>>>>>>>>>>>>>>>>>>>>>>>\n"
          ],
          "name": "stdout"
        },
        {
          "output_type": "execute_result",
          "data": {
            "text/html": [
              "<div>\n",
              "<style scoped>\n",
              "    .dataframe tbody tr th:only-of-type {\n",
              "        vertical-align: middle;\n",
              "    }\n",
              "\n",
              "    .dataframe tbody tr th {\n",
              "        vertical-align: top;\n",
              "    }\n",
              "\n",
              "    .dataframe thead th {\n",
              "        text-align: right;\n",
              "    }\n",
              "</style>\n",
              "<table border=\"1\" class=\"dataframe\">\n",
              "  <thead>\n",
              "    <tr style=\"text-align: right;\">\n",
              "      <th></th>\n",
              "      <th>Accuracy</th>\n",
              "      <th>Balanced Accuracy</th>\n",
              "      <th>ROC AUC</th>\n",
              "      <th>F1 Score</th>\n",
              "      <th>Time Taken</th>\n",
              "    </tr>\n",
              "    <tr>\n",
              "      <th>Model</th>\n",
              "      <th></th>\n",
              "      <th></th>\n",
              "      <th></th>\n",
              "      <th></th>\n",
              "      <th></th>\n",
              "    </tr>\n",
              "  </thead>\n",
              "  <tbody>\n",
              "    <tr>\n",
              "      <th>CatBoostClassifier</th>\n",
              "      <td>0.98</td>\n",
              "      <td>0.98</td>\n",
              "      <td>0.98</td>\n",
              "      <td>0.98</td>\n",
              "      <td>0.98</td>\n",
              "    </tr>\n",
              "    <tr>\n",
              "      <th>SVC</th>\n",
              "      <td>0.98</td>\n",
              "      <td>0.98</td>\n",
              "      <td>0.98</td>\n",
              "      <td>0.98</td>\n",
              "      <td>0.01</td>\n",
              "    </tr>\n",
              "    <tr>\n",
              "      <th>KNeighborsClassifier</th>\n",
              "      <td>0.98</td>\n",
              "      <td>0.98</td>\n",
              "      <td>0.98</td>\n",
              "      <td>0.98</td>\n",
              "      <td>0.02</td>\n",
              "    </tr>\n",
              "    <tr>\n",
              "      <th>LinearSVC</th>\n",
              "      <td>0.98</td>\n",
              "      <td>0.98</td>\n",
              "      <td>0.98</td>\n",
              "      <td>0.98</td>\n",
              "      <td>0.02</td>\n",
              "    </tr>\n",
              "    <tr>\n",
              "      <th>BernoulliNB</th>\n",
              "      <td>0.98</td>\n",
              "      <td>0.98</td>\n",
              "      <td>0.98</td>\n",
              "      <td>0.98</td>\n",
              "      <td>0.02</td>\n",
              "    </tr>\n",
              "    <tr>\n",
              "      <th>GaussianNB</th>\n",
              "      <td>0.97</td>\n",
              "      <td>0.97</td>\n",
              "      <td>0.97</td>\n",
              "      <td>0.97</td>\n",
              "      <td>0.01</td>\n",
              "    </tr>\n",
              "    <tr>\n",
              "      <th>SGDClassifier</th>\n",
              "      <td>0.98</td>\n",
              "      <td>0.97</td>\n",
              "      <td>0.97</td>\n",
              "      <td>0.98</td>\n",
              "      <td>0.01</td>\n",
              "    </tr>\n",
              "    <tr>\n",
              "      <th>NuSVC</th>\n",
              "      <td>0.97</td>\n",
              "      <td>0.97</td>\n",
              "      <td>0.97</td>\n",
              "      <td>0.97</td>\n",
              "      <td>0.02</td>\n",
              "    </tr>\n",
              "    <tr>\n",
              "      <th>LGBMClassifier</th>\n",
              "      <td>0.98</td>\n",
              "      <td>0.97</td>\n",
              "      <td>0.97</td>\n",
              "      <td>0.98</td>\n",
              "      <td>0.06</td>\n",
              "    </tr>\n",
              "    <tr>\n",
              "      <th>RandomForestClassifier</th>\n",
              "      <td>0.97</td>\n",
              "      <td>0.97</td>\n",
              "      <td>0.97</td>\n",
              "      <td>0.97</td>\n",
              "      <td>0.16</td>\n",
              "    </tr>\n",
              "  </tbody>\n",
              "</table>\n",
              "</div>"
            ],
            "text/plain": [
              "                        Accuracy  Balanced Accuracy  ...  F1 Score  Time Taken\n",
              "Model                                                ...                      \n",
              "CatBoostClassifier          0.98               0.98  ...      0.98        0.98\n",
              "SVC                         0.98               0.98  ...      0.98        0.01\n",
              "KNeighborsClassifier        0.98               0.98  ...      0.98        0.02\n",
              "LinearSVC                   0.98               0.98  ...      0.98        0.02\n",
              "BernoulliNB                 0.98               0.98  ...      0.98        0.02\n",
              "GaussianNB                  0.97               0.97  ...      0.97        0.01\n",
              "SGDClassifier               0.98               0.97  ...      0.98        0.01\n",
              "NuSVC                       0.97               0.97  ...      0.97        0.02\n",
              "LGBMClassifier              0.98               0.97  ...      0.98        0.06\n",
              "RandomForestClassifier      0.97               0.97  ...      0.97        0.16\n",
              "\n",
              "[10 rows x 5 columns]"
            ]
          },
          "metadata": {
            "tags": []
          },
          "execution_count": 76
        }
      ]
    },
    {
      "cell_type": "code",
      "metadata": {
        "id": "e4JBjcYzFOTU",
        "colab_type": "code",
        "colab": {
          "base_uri": "https://localhost:8080/",
          "height": 517
        },
        "outputId": "2c4a4718-8994-4aa6-8609-122a3f39f455"
      },
      "source": [
        "from sklearn import metrics\n",
        "\n",
        "print('KNN Confusion Matrix')\n",
        "\n",
        "cm=metrics.confusion_matrix(y_test,predicted_1, labels=[2,4])\n",
        "\n",
        "df_cm=pd.DataFrame(cm, index=[i for i in [2,4]],columns=[i for i in ['Predict M','predict B']])\n",
        "\n",
        "plt.figure(figsize=(10,8))\n",
        "sns.heatmap(df_cm, annot=True)"
      ],
      "execution_count": 53,
      "outputs": [
        {
          "output_type": "stream",
          "text": [
            "KNN Confusion Matrix\n"
          ],
          "name": "stdout"
        },
        {
          "output_type": "execute_result",
          "data": {
            "text/plain": [
              "<matplotlib.axes._subplots.AxesSubplot at 0x7f889cd7bac8>"
            ]
          },
          "metadata": {
            "tags": []
          },
          "execution_count": 53
        },
        {
          "output_type": "display_data",
          "data": {
            "image/png": "[encoded data removed]",
            "text/plain": [
              "<Figure size 720x576 with 2 Axes>"
            ]
          },
          "metadata": {
            "tags": [],
            "needs_background": "light"
          }
        }
      ]
    },
    {
      "cell_type": "code",
      "metadata": {
        "id": "Q3CjdtLIFSYE",
        "colab_type": "code",
        "colab": {
          "base_uri": "https://localhost:8080/",
          "height": 517
        },
        "outputId": "7d6b5381-9751-4139-d14f-96f8de94b906"
      },
      "source": [
        "from sklearn import metrics\n",
        "\n",
        "print('SVC Confusion Matrix')\n",
        "\n",
        "cm=metrics.confusion_matrix(y_test,prediction_2, labels=[2,4])\n",
        "\n",
        "df_cm=pd.DataFrame(cm, index=[i for i in [2,4]],columns=[i for i in ['Predict M','predict B']])\n",
        "\n",
        "plt.figure(figsize=(10,8))\n",
        "sns.heatmap(df_cm, annot=True)"
      ],
      "execution_count": 54,
      "outputs": [
        {
          "output_type": "stream",
          "text": [
            "SVC Confusion Matrix\n"
          ],
          "name": "stdout"
        },
        {
          "output_type": "execute_result",
          "data": {
            "text/plain": [
              "<matplotlib.axes._subplots.AxesSubplot at 0x7f889cd7b4e0>"
            ]
          },
          "metadata": {
            "tags": []
          },
          "execution_count": 54
        },
        {
          "output_type": "display_data",
          "data": {
            "image/png": "[encoded data removed]",
            "text/plain": [
              "<Figure size 720x576 with 2 Axes>"
            ]
          },
          "metadata": {
            "tags": [],
            "needs_background": "light"
          }
        }
      ]
    }
  ]
}